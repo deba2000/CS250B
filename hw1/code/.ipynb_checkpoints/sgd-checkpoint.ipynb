{
 "metadata": {
  "name": ""
 },
 "nbformat": 3,
 "nbformat_minor": 0,
 "worksheets": [
  {
   "cells": [
    {
     "cell_type": "heading",
     "level": 1,
     "metadata": {},
     "source": [
      "sgd.py"
     ]
    },
    {
     "cell_type": "markdown",
     "metadata": {},
     "source": [
      "Implements stochastic gradient descent to train a logistic model prob. dist. to a sample of data."
     ]
    },
    {
     "cell_type": "markdown",
     "metadata": {},
     "source": [
      "---"
     ]
    },
    {
     "cell_type": "heading",
     "level": 3,
     "metadata": {},
     "source": [
      "Notes"
     ]
    },
    {
     "cell_type": "markdown",
     "metadata": {},
     "source": [
      "***After rescaling:***\n",
      "\n",
      "- Data was rescaled so that each component has mean=0 and variance=1.  This is advantageous because there is only one learning rate set in the problem, so all parameters will behave similarly during the optimization.\n",
      "\n",
      "\n",
      "***Before rescaling:***\n",
      "\n",
      "- Learning rate $\\lambda=0.1$ produces convergence w/ $\\mu=0$ within about 40000 steps.  Gradient=0 tested.\n",
      "- When $\\lambda=0.1$, $\\mu=0.0001$, the algorithm converges to what seems to be a fixed point in the $\\beta_i$ directions, but then slowly drifts because of $\\mu \\|\\beta\\|_2^2$ term.\n",
      "- When $\\lambda=0.35$, $\\mu=0.0001$, the algorithm converges within about 60000 steps, but then randomly jumps out of the optimum and converges again.  Maybe this happens indefinitely?  This is a sign that the gradient should be tracked as the algorithm proceeds, to determine whether it has converged to a steady state.\n",
      "- When $\\lambda=0.035$, $\\mu=0.001$, the algorithm has similar behavior to the previous case.  ***In terms of convergence time, maybe $\\lambda\\mu = 0.000035$ is near optimal.***\n",
      "\n",
      "\n",
      "- Knowing the product $\\lambda\\mu$ that is optimal for convergence time is helpful, because now I can independently search for the value of $\\mu$ that optimizes the likelihood of the model given either:\n",
      "    - New sets of data, or\n",
      "    - Subsets of the training data, i.e. \"validation sets\""
     ]
    },
    {
     "cell_type": "markdown",
     "metadata": {},
     "source": [
      "---"
     ]
    },
    {
     "cell_type": "code",
     "collapsed": false,
     "input": [
      "import numpy as np\n",
      "import matplotlib.pyplot as plt"
     ],
     "language": "python",
     "metadata": {},
     "outputs": [],
     "prompt_number": 1
    },
    {
     "cell_type": "code",
     "collapsed": false,
     "input": [
      "from mpl_toolkits.mplot3d import Axes3D"
     ],
     "language": "python",
     "metadata": {},
     "outputs": [],
     "prompt_number": 2
    },
    {
     "cell_type": "code",
     "collapsed": false,
     "input": [
      "import time"
     ],
     "language": "python",
     "metadata": {},
     "outputs": [],
     "prompt_number": 3
    },
    {
     "cell_type": "code",
     "collapsed": false,
     "input": [
      "%matplotlib inline"
     ],
     "language": "python",
     "metadata": {},
     "outputs": [],
     "prompt_number": 4
    },
    {
     "cell_type": "markdown",
     "metadata": {},
     "source": [
      "Parse the data set for compatibility with numpy.loadtxt.  ***THIS ONLY NEEDS TO BE DONE ONCE***"
     ]
    },
    {
     "cell_type": "code",
     "collapsed": false,
     "input": [
      "raw_train_data = np.loadtxt('../dataset/1571/train', dtype=\"str\")  # load file as strings\n",
      "train_data = np.zeros(shape=raw_train_data.shape, dtype='int')  # initialize float data array\n",
      "\n",
      "for ind_ex in range(raw_train_data.shape[0]):  # training example\n",
      "    for ind_cm in range(raw_train_data.shape[1]):  # cmpt of example\n",
      "        if ind_cm == 0:\n",
      "            train_data[ind_ex,ind_cm] = float(raw_train_data[ind_ex,ind_cm])\n",
      "        else:\n",
      "            i = 0\n",
      "            while raw_train_data[ind_ex,ind_cm][i] != ':':\n",
      "                i += 1\n",
      "            i += 1\n",
      "            train_data[ind_ex,ind_cm] = float(raw_train_data[ind_ex,ind_cm][i:])\n",
      "\n",
      "# now save the compatible array to file\n",
      "np.savetxt('../dataset/1571/train_npcomp.dat', train_data, fmt='%i')"
     ],
     "language": "python",
     "metadata": {},
     "outputs": [],
     "prompt_number": 58
    },
    {
     "cell_type": "code",
     "collapsed": false,
     "input": [
      "raw_test_data = np.loadtxt('../dataset/1571/test', dtype=\"str\")  # load file as strings\n",
      "test_data = np.zeros(shape=raw_tr_data.shape, dtype='int')  # initialize float data array\n",
      "\n",
      "for ind_ex in range(raw_test_data.shape[0]):  # training example\n",
      "    for ind_cm in range(raw_test_data.shape[1]):  # cmpt of example\n",
      "        if ind_cm == 0:\n",
      "            test_data[ind_ex,ind_cm] = float(raw_test_data[ind_ex,ind_cm])\n",
      "        else:\n",
      "            i = 0\n",
      "            while raw_test_data[ind_ex,ind_cm][i] != ':':\n",
      "                i += 1\n",
      "            i += 1\n",
      "            test_data[ind_ex,ind_cm] = float(raw_test_data[ind_ex,ind_cm][i:])\n",
      "\n",
      "# now save the compatible array to file\n",
      "np.savetxt('../dataset/1571/test_npcomp.dat', test_data, fmt='%i')"
     ],
     "language": "python",
     "metadata": {},
     "outputs": [],
     "prompt_number": 59
    },
    {
     "cell_type": "markdown",
     "metadata": {},
     "source": [
      "---"
     ]
    },
    {
     "cell_type": "markdown",
     "metadata": {},
     "source": [
      "Now the program actually starts.  First, load the training and test data into numpy arrays.  For reasons which will become apparent, a 1 will be appended to the end of each training example; this will make some of the calculations later more convenient."
     ]
    },
    {
     "cell_type": "code",
     "collapsed": false,
     "input": [
      "train_data = np.loadtxt('../dataset/1571/train_npcomp.dat', dtype='float')\n",
      "test_data = np.loadtxt('../dataset/1571/test_npcomp.dat', dtype='float')\n",
      "\n",
      "D = train_data.shape[1]\n",
      "N_trainex = train_data.shape[0]\n",
      "N_testex = test_data.shape[0]\n",
      "\n",
      "train_data = np.hstack((train_data, np.reshape(np.ones(N_trainex, dtype='float'), (N_trainex, 1))))\n",
      "test_data = np.hstack((test_data, np.reshape(np.ones(N_testex, dtype='float'), (N_testex, 1))))\n",
      "\n",
      "# change qualifier to plus or minus 1\n",
      "train_data[:,0] = (train_data[:,0] + 1.0)/2.0\n",
      "test_data[:,0] = (test_data[:,0] + 1.0)/2.0"
     ],
     "language": "python",
     "metadata": {},
     "outputs": [],
     "prompt_number": 5
    },
    {
     "cell_type": "code",
     "collapsed": false,
     "input": [
      "# rescale data so that all traits in training set have mean=0, variance=1\n",
      "# don't use last trait, which is always 1, since it has no variance\n",
      "train_mean = np.mean(train_data[:,1:-1], axis=0)\n",
      "train_var = np.var(train_data[:,1:-1], axis=0)\n",
      "\n",
      "train_data[:,1:-1] -= np.resize(train_mean, (N_trainex,D-1))\n",
      "train_data[:,1:-1] /= np.sqrt(train_var)"
     ],
     "language": "python",
     "metadata": {},
     "outputs": [],
     "prompt_number": 6
    },
    {
     "cell_type": "markdown",
     "metadata": {},
     "source": [
      "Define the probability distribution over which we will be searching.  It will take beta as the first argument, since we will search over beta; the other inputs are the data.  Also define the LCL, for convenience.\n",
      "\n",
      "Since the argument of the logistic function is\n",
      "$$ \\alpha + \\sum_i \\beta_i x_i $$\n",
      "we will set $\\beta_{N+1} = \\alpha$ and $x_{N+1} = 1$ for convenience (actually we already set $x_{N+1}=1$ earlier).\n",
      "\n",
      "I will also define the \"regularized\" LCL.  This avoids overfitting to the training data, and is equivalent to imposing a Gaussian prior on $\\beta$.  The regularized function is\n",
      "$$ LCL - \\mu \\| \\beta \\| ^2_2$$\n",
      "so it uses the squared $L_2$-norm of $\\beta$."
     ]
    },
    {
     "cell_type": "code",
     "collapsed": false,
     "input": [
      "def logistic(beta, x):\n",
      "    \"\"\"\n",
      "    Logistic function when beta and x are vectors.\n",
      "    \"\"\"\n",
      "    return 1.0 / (1.0 + np.exp(-np.einsum('i,i', beta,x)))\n",
      "\n",
      "def logistic_set(beta, x):\n",
      "    \"\"\"\n",
      "    Logistic function for input x which is a set of examples. Mainly want this for computing gradient.\n",
      "    Beta should be a vector w length = # traits.\n",
      "    Returns a vector which is the logistic function evaluated over each example.\n",
      "    \"\"\"\n",
      "    return 1.0 / (1.0 + np.exp(-np.einsum('j,ij', beta,x)))\n",
      "\n",
      "def LCL(beta, x):\n",
      "    result = 0.0\n",
      "    for i in range(N_trainex):\n",
      "        result += np.log(logistic(beta,x[i])) + np.log(1.0 - logistic(beta,x[i]))\n",
      "    return result\n",
      "\n",
      "def LCL_reg(beta, x, mu):\n",
      "    return LCL(beta, x) - mu * np.einsum('i,i', beta,beta)"
     ],
     "language": "python",
     "metadata": {},
     "outputs": [],
     "prompt_number": 7
    },
    {
     "cell_type": "markdown",
     "metadata": {},
     "source": [
      "Now it's time to define the stochastic gradient descent method.  The \"stochasticity\" here is a random choice of training example to use to calculate the gradient, reducing computation time in the algorithm.  The steps, then, look like\n",
      "$$ \\beta_j(n+1) = \\beta_j(n) + \\lambda (y_i - p_i)x_{ij} $$\n",
      "where $i$ is drawn randomly, i.e. the training example is randomly drawn.  The second expression is specifically the gradient of the logisitic function.\n",
      "\n",
      "$\\lambda$ is an arbitrary scaling parameter in the algorithm, called the \"learning rate\".  It should, I think, control how quickly the algorithm converges.  It probably is highly situation-dependent."
     ]
    },
    {
     "cell_type": "heading",
     "level": 3,
     "metadata": {},
     "source": [
      "\"Method 1\""
     ]
    },
    {
     "cell_type": "markdown",
     "metadata": {},
     "source": [
      "The following method randomly draws a sample from the training data, and uses that to compute the gradient term to update $\\beta$.  Each $\\beta_i$ is \"tied\" to a particular training example in the sense that the example $x_{ij}$ is always paired with parameter $\\beta_j$."
     ]
    },
    {
     "cell_type": "code",
     "collapsed": false,
     "input": [
      "D = train_data.shape[1] - 1  # don't want to include the qualifier as a dim.\n",
      "x0 = np.zeros(D)  # initial position\n",
      "Nsteps = 40000\n",
      "\n",
      "lr = 0.05\n",
      "mu = 0.00"
     ],
     "language": "python",
     "metadata": {},
     "outputs": [],
     "prompt_number": 18
    },
    {
     "cell_type": "code",
     "collapsed": false,
     "input": [
      "traj = [x0]  # keeps track of trajectory through parameter space\n",
      "#traj = [traj[-1]]  # in case you want to continue from where you last left off\n",
      "\n",
      "for ns in range(Nsteps-1):\n",
      "    ind_ex = np.random.randint(N_trainex)\n",
      "    y_rand = train_data[ind_ex, 0]\n",
      "    x_rand = train_data[ind_ex, 1:]\n",
      "    p_rand = logistic(traj[ns], x_rand)\n",
      "    step = lr*((y_rand - p_rand)*x_rand - 2.0*mu*traj[ns])\n",
      "    traj.append(traj[ns] + step)\n",
      "\n",
      "traj = np.array(traj)"
     ],
     "language": "python",
     "metadata": {},
     "outputs": [],
     "prompt_number": 19
    },
    {
     "cell_type": "markdown",
     "metadata": {},
     "source": [
      "Now calculate the gradient along the entire trajectory.  Note that this method was actually *faster* than defining a new function that calculates the logistic function along the time series using np.einsum.  I think this is because the second method required reshaping the training data into an array with $N_\\text{steps}$ copies of the data."
     ]
    },
    {
     "cell_type": "code",
     "collapsed": false,
     "input": [
      "grad_traj = np.zeros((Nsteps,D))\n",
      "for ns in range(Nsteps):\n",
      "    grad_traj[ns] = np.einsum('j,ji', (train_data[:,0] - logistic_set(traj[ns],train_data[:,1:])),train_data[:,1:]) - 2.0*mu*traj[ns]"
     ],
     "language": "python",
     "metadata": {},
     "outputs": [],
     "prompt_number": 36
    },
    {
     "cell_type": "markdown",
     "metadata": {},
     "source": [
      "Plot trajectory in beta space, as well as gradient."
     ]
    },
    {
     "cell_type": "code",
     "collapsed": false,
     "input": [
      "plt.plot(traj[:,2])"
     ],
     "language": "python",
     "metadata": {},
     "outputs": [
      {
       "metadata": {},
       "output_type": "pyout",
       "prompt_number": 22,
       "text": [
        "[<matplotlib.lines.Line2D at 0x176203550>]"
       ]
      },
      {
       "metadata": {},
       "output_type": "display_data",
       "png": "[encoded data removed]",
       "text": [
        "<matplotlib.figure.Figure at 0x165d6c810>"
       ]
      }
     ],
     "prompt_number": 22
    },
    {
     "cell_type": "code",
     "collapsed": false,
     "input": [
      "plt.plot(grad_traj[-16000:,0])"
     ],
     "language": "python",
     "metadata": {},
     "outputs": [
      {
       "ename": "NameError",
       "evalue": "name 'grad_traj' is not defined",
       "output_type": "pyerr",
       "traceback": [
        "\u001b[0;31m---------------------------------------------------------------------------\u001b[0m\n\u001b[0;31mNameError\u001b[0m                                 Traceback (most recent call last)",
        "\u001b[0;32m<ipython-input-11-0f6c08ab8e9a>\u001b[0m in \u001b[0;36m<module>\u001b[0;34m()\u001b[0m\n\u001b[0;32m----> 1\u001b[0;31m \u001b[0mplt\u001b[0m\u001b[0;34m.\u001b[0m\u001b[0mplot\u001b[0m\u001b[0;34m(\u001b[0m\u001b[0mgrad_traj\u001b[0m\u001b[0;34m[\u001b[0m\u001b[0;34m-\u001b[0m\u001b[0;36m16000\u001b[0m\u001b[0;34m:\u001b[0m\u001b[0;34m,\u001b[0m\u001b[0;36m0\u001b[0m\u001b[0;34m]\u001b[0m\u001b[0;34m)\u001b[0m\u001b[0;34m\u001b[0m\u001b[0m\n\u001b[0m",
        "\u001b[0;31mNameError\u001b[0m: name 'grad_traj' is not defined"
       ]
      }
     ],
     "prompt_number": 11
    },
    {
     "cell_type": "code",
     "collapsed": false,
     "input": [
      "np.mean(grad_traj[-1000:,0])"
     ],
     "language": "python",
     "metadata": {},
     "outputs": [
      {
       "metadata": {},
       "output_type": "pyout",
       "prompt_number": 31,
       "text": [
        "-0.14685122782760066"
       ]
      }
     ],
     "prompt_number": 31
    },
    {
     "cell_type": "heading",
     "level": 3,
     "metadata": {},
     "source": [
      "\"Method 2\""
     ]
    },
    {
     "cell_type": "markdown",
     "metadata": {},
     "source": [
      "This method, instead, randomly shuffles the training examples in each step (now called \"epochs\") and updates the array of $\\beta_i$ element-by-element, with each element of $\\beta_i$ tied to a single training example in each epoch."
     ]
    },
    {
     "cell_type": "code",
     "collapsed": false,
     "input": [],
     "language": "python",
     "metadata": {},
     "outputs": []
    }
   ],
   "metadata": {}
  }
 ]
}