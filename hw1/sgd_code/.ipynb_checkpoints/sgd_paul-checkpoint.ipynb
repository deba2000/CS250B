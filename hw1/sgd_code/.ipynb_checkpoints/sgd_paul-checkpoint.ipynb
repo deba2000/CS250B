{
 "metadata": {
  "name": ""
 },
 "nbformat": 3,
 "nbformat_minor": 0,
 "worksheets": [
  {
   "cells": [
    {
     "cell_type": "heading",
     "level": 1,
     "metadata": {},
     "source": [
      "sgd.py"
     ]
    },
    {
     "cell_type": "markdown",
     "metadata": {},
     "source": [
      "Implements stochastic gradient descent to train a logistic model prob. dist. to a sample of data."
     ]
    },
    {
     "cell_type": "markdown",
     "metadata": {},
     "source": [
      "---"
     ]
    },
    {
     "cell_type": "heading",
     "level": 2,
     "metadata": {},
     "source": [
      "Notes"
     ]
    },
    {
     "cell_type": "markdown",
     "metadata": {},
     "source": [
      "***After rescaling:***\n",
      "\n",
      "- Data was rescaled so that each component has mean=0 and variance=1.  This is advantageous because there is only one learning rate set in the problem, so all parameters will behave similarly during the optimization.\n",
      "- Seems like $\\mu\\lambda \\approx .00005$ tends to produce fast convergence.\n",
      "\n",
      "\n",
      "***Before rescaling:***\n",
      "\n",
      "- Learning rate $\\lambda=0.1$ produces convergence w/ $\\mu=0$ within about 40000 steps.  Gradient=0 tested.\n",
      "- When $\\lambda=0.1$, $\\mu=0.0001$, the algorithm converges to what seems to be a fixed point in the $\\beta_i$ directions, but then slowly drifts because of $\\mu \\|\\beta\\|_2^2$ term.\n",
      "- When $\\lambda=0.35$, $\\mu=0.0001$, the algorithm converges within about 60000 steps, but then randomly jumps out of the optimum and converges again.  Maybe this happens indefinitely?  This is a sign that the gradient should be tracked as the algorithm proceeds, to determine whether it has converged to a steady state.\n",
      "- When $\\lambda=0.035$, $\\mu=0.001$, the algorithm has similar behavior to the previous case.  ***In terms of convergence time, maybe $\\lambda\\mu \\approx .000035$ is near optimal.***\n",
      "\n",
      "\n",
      "- Knowing the product $\\lambda\\mu$ that is optimal for convergence time is helpful, because now I can independently search for the value of $\\mu$ that optimizes the likelihood of the model given either:\n",
      "    - New sets of data, or\n",
      "    - Subsets of the training data, i.e. \"validation sets\""
     ]
    },
    {
     "cell_type": "markdown",
     "metadata": {},
     "source": [
      "---"
     ]
    },
    {
     "cell_type": "code",
     "collapsed": false,
     "input": [
      "import numpy as np\n",
      "import matplotlib.pyplot as plt"
     ],
     "language": "python",
     "metadata": {},
     "outputs": [],
     "prompt_number": 1
    },
    {
     "cell_type": "code",
     "collapsed": false,
     "input": [
      "from mpl_toolkits.mplot3d import Axes3D"
     ],
     "language": "python",
     "metadata": {},
     "outputs": [],
     "prompt_number": 2
    },
    {
     "cell_type": "code",
     "collapsed": false,
     "input": [
      "import time"
     ],
     "language": "python",
     "metadata": {},
     "outputs": [],
     "prompt_number": 3
    },
    {
     "cell_type": "code",
     "collapsed": false,
     "input": [
      "%matplotlib inline"
     ],
     "language": "python",
     "metadata": {},
     "outputs": [],
     "prompt_number": 4
    },
    {
     "cell_type": "markdown",
     "metadata": {},
     "source": [
      "Parse the data set for compatibility with numpy.loadtxt.  ***THIS ONLY NEEDS TO BE DONE ONCE***"
     ]
    },
    {
     "cell_type": "code",
     "collapsed": false,
     "input": [
      "raw_train_data = np.loadtxt('../dataset/1571/train', dtype='str')  # load file as strings\n",
      "train_data = np.zeros(shape=raw_train_data.shape, dtype='int')  # initialize float data array\n",
      "\n",
      "for ind_ex in range(raw_train_data.shape[0]):  # training example\n",
      "    for ind_cm in range(raw_train_data.shape[1]):  # cmpt of example\n",
      "        if ind_cm == 0:\n",
      "            train_data[ind_ex,ind_cm] = float(raw_train_data[ind_ex,ind_cm])\n",
      "        else:\n",
      "            i = 0\n",
      "            while raw_train_data[ind_ex,ind_cm][i] != ':':\n",
      "                i += 1\n",
      "            i += 1\n",
      "            train_data[ind_ex,ind_cm] = float(raw_train_data[ind_ex,ind_cm][i:])\n",
      "\n",
      "# now save the compatible array to file\n",
      "np.savetxt('../dataset/1571/train_npcomp.dat', train_data, fmt='%i')"
     ],
     "language": "python",
     "metadata": {},
     "outputs": [],
     "prompt_number": 6
    },
    {
     "cell_type": "code",
     "collapsed": false,
     "input": [
      "raw_test_data = np.loadtxt('../dataset/1571/test', dtype=\"str\")  # load file as strings\n",
      "test_data = np.zeros(shape=raw_test_data.shape, dtype='int')  # initialize float data array\n",
      "\n",
      "for ind_ex in range(raw_test_data.shape[0]):  # training example\n",
      "    for ind_cm in range(raw_test_data.shape[1]):  # cmpt of example\n",
      "        if ind_cm == 0:\n",
      "            test_data[ind_ex,ind_cm] = float(raw_test_data[ind_ex,ind_cm])\n",
      "        else:\n",
      "            i = 0\n",
      "            while raw_test_data[ind_ex,ind_cm][i] != ':':\n",
      "                i += 1\n",
      "            i += 1\n",
      "            test_data[ind_ex,ind_cm] = float(raw_test_data[ind_ex,ind_cm][i:])\n",
      "\n",
      "# now save the compatible array to file\n",
      "np.savetxt('../dataset/1571/test_npcomp.dat', test_data, fmt='%i')"
     ],
     "language": "python",
     "metadata": {},
     "outputs": [],
     "prompt_number": 7
    },
    {
     "cell_type": "markdown",
     "metadata": {},
     "source": [
      "---"
     ]
    },
    {
     "cell_type": "markdown",
     "metadata": {},
     "source": [
      "Now the program actually starts.  First, load the training and test data into numpy arrays.  For reasons which will become apparent, a 1 will be appended to the end of each training example; this will make some of the calculations later more convenient."
     ]
    },
    {
     "cell_type": "code",
     "collapsed": false,
     "input": [
      "train_data = np.loadtxt('../dataset/1571/train_npcomp.dat', dtype='float')\n",
      "test_data = np.loadtxt('../dataset/1571/test_npcomp.dat', dtype='float')\n",
      "\n",
      "D = train_data.shape[1]\n",
      "N_trainex = train_data.shape[0]\n",
      "N_testex = test_data.shape[0]\n",
      "\n",
      "train_data = np.hstack((train_data, np.reshape(np.ones(N_trainex, dtype='float'), (N_trainex, 1))))\n",
      "test_data = np.hstack((test_data, np.reshape(np.ones(N_testex, dtype='float'), (N_testex, 1))))\n",
      "\n",
      "# change qualifier to plus or minus 1\n",
      "train_data[:,0] = (train_data[:,0] + 1.0)/2.0\n",
      "test_data[:,0] = (test_data[:,0] + 1.0)/2.0"
     ],
     "language": "python",
     "metadata": {},
     "outputs": [],
     "prompt_number": 5
    },
    {
     "cell_type": "code",
     "collapsed": false,
     "input": [
      "# rescale data so that all traits in training set have mean=0, variance=1\n",
      "# don't use last trait, which is always 1, since it has no variance\n",
      "train_mean = np.mean(train_data[:,1:-1], axis=0)\n",
      "train_var = np.var(train_data[:,1:-1], axis=0)\n",
      "\n",
      "train_data[:,1:-1] -= np.resize(train_mean, (N_trainex,D-1))\n",
      "train_data[:,1:-1] /= np.sqrt(train_var)"
     ],
     "language": "python",
     "metadata": {},
     "outputs": [],
     "prompt_number": 6
    },
    {
     "cell_type": "markdown",
     "metadata": {},
     "source": [
      "Define the probability distribution over which we will be searching.  It will take beta as the first argument, since we will search over beta; the other inputs are the data.  Also define the LCL, for convenience.\n",
      "\n",
      "Since the argument of the logistic function is\n",
      "$$ \\alpha + \\sum_i \\beta_i x_i $$\n",
      "we will set $\\beta_{N+1} = \\alpha$ and $x_{N+1} = 1$ for convenience (actually we already set $x_{N+1}=1$ earlier).\n",
      "\n",
      "I will also define the \"regularized\" LCL.  This avoids overfitting to the training data, and is equivalent to imposing a Gaussian prior on $\\beta$.  The regularized function is\n",
      "$$ LCL - \\mu \\| \\beta \\| ^2_2$$\n",
      "so it uses the squared $L_2$-norm of $\\beta$."
     ]
    },
    {
     "cell_type": "code",
     "collapsed": false,
     "input": [
      "def logistic(beta, x):\n",
      "    \"\"\"\n",
      "    Logistic function when beta and x are vectors.\n",
      "    \"\"\"\n",
      "    return 1.0 / (1.0 + np.exp(-np.einsum('i,i', beta,x)))\n",
      "\n",
      "def logistic_set(beta, x):\n",
      "    \"\"\"\n",
      "    Logistic function for input x which is a set of examples. Mainly want this for computing gradient.\n",
      "    Beta should be a vector w length = # traits.\n",
      "    Returns a vector which is the logistic function evaluated over each example.\n",
      "    \"\"\"\n",
      "    return 1.0 / (1.0 + np.exp(-np.einsum('j,ij', beta,x)))\n",
      "\n",
      "def LCL(beta, x):\n",
      "    \"\"\"\n",
      "    Computes LCL for a data set x, where x has shape (# examples, # dimensions + 1).\n",
      "    The reason it is # dimensions + 1 is that the 0th element should be the classifier.\n",
      "    Also, don't forget that there is a \"fake\" trait which is always 1, but this is included\n",
      "    as one of the dimensions.\n",
      "    \"\"\"\n",
      "    traits = x[:,1:]\n",
      "    result = 0.0\n",
      "    for i in range(N_trainex):\n",
      "        if x[i,0] == 1:\n",
      "            result += np.log(logistic(beta,traits[i]))\n",
      "        else:\n",
      "            result += np.log(1.0 - logistic(beta,traits[i]))\n",
      "    return result\n",
      "\n",
      "def LCL_reg(beta, x, mu):\n",
      "    \"\"\"\n",
      "    Computes the regularized LCL (with Gaussian prior on betas)\n",
      "    \"\"\"\n",
      "    return LCL(beta, x) - mu * np.einsum('i,i', beta,beta)"
     ],
     "language": "python",
     "metadata": {},
     "outputs": [],
     "prompt_number": 7
    },
    {
     "cell_type": "markdown",
     "metadata": {},
     "source": [
      "Now it's time to define the stochastic gradient descent method.  The \"stochasticity\" here is a random choice of training example to use to calculate the gradient, reducing computation time in the algorithm.  The steps, then, look like\n",
      "$$ \\beta_j(n+1) = \\beta_j(n) + \\lambda (y_i - p_i)x_{ij} $$\n",
      "where $i$ is drawn randomly, i.e. the training example is randomly drawn.  The second expression is specifically the gradient of the logisitic function.\n",
      "\n",
      "$\\lambda$ is an arbitrary scaling parameter in the algorithm, called the \"learning rate\".  It should, I think, control how quickly the algorithm converges.  It probably is highly situation-dependent."
     ]
    },
    {
     "cell_type": "heading",
     "level": 2,
     "metadata": {},
     "source": [
      "\"Method 1\""
     ]
    },
    {
     "cell_type": "markdown",
     "metadata": {},
     "source": [
      "The following method randomly draws a sample from the training data, and uses that to compute the gradient term to update $\\beta$.  Each $\\beta_i$ is \"tied\" to a particular training example in the sense that the example $x_{ij}$ is always paired with parameter $\\beta_j$."
     ]
    },
    {
     "cell_type": "code",
     "collapsed": false,
     "input": [
      "D = train_data.shape[1] - 1  # don't want to include the qualifier as a dim.\n",
      "x0 = np.zeros(D)  # initial position\n",
      "Nsteps = 40000\n",
      "\n",
      "lr = 0.025\n",
      "mu = 0.002"
     ],
     "language": "python",
     "metadata": {},
     "outputs": [],
     "prompt_number": 42
    },
    {
     "cell_type": "code",
     "collapsed": false,
     "input": [
      "traj = [x0]  # keeps track of trajectory through parameter space\n",
      "#traj = [traj[-1]]  # in case you want to continue from where you last left off\n",
      "\n",
      "for ns in range(Nsteps-1):\n",
      "    ind_ex = np.random.randint(N_trainex)\n",
      "    y_rand = train_data[ind_ex, 0]\n",
      "    x_rand = train_data[ind_ex, 1:]\n",
      "    p_rand = logistic(traj[ns], x_rand)\n",
      "    step = lr*((y_rand - p_rand)*x_rand - 2.0*mu*traj[ns])\n",
      "    traj.append(traj[ns] + step)\n",
      "\n",
      "traj = np.array(traj)"
     ],
     "language": "python",
     "metadata": {},
     "outputs": [],
     "prompt_number": 43
    },
    {
     "cell_type": "markdown",
     "metadata": {},
     "source": [
      "Now calculate the gradient along the entire trajectory.  Note that this method was actually *faster* than defining a new function that calculates the logistic function along the time series using np.einsum.  I think this is because the second method required reshaping the training data into an array with $N_\\text{steps}$ copies of the data."
     ]
    },
    {
     "cell_type": "code",
     "collapsed": false,
     "input": [
      "grad_traj = np.zeros((Nsteps,D))\n",
      "for ns in range(Nsteps):\n",
      "    grad_traj[ns] = np.einsum('j,ji', (train_data[:,0] - logistic_set(traj[ns],train_data[:,1:])),train_data[:,1:]) - 2.0*mu*traj[ns]"
     ],
     "language": "python",
     "metadata": {},
     "outputs": [],
     "prompt_number": 19
    },
    {
     "cell_type": "markdown",
     "metadata": {},
     "source": [
      "Plot trajectory in beta space, as well as gradient."
     ]
    },
    {
     "cell_type": "code",
     "collapsed": false,
     "input": [
      "plt.plot(traj[:,0])"
     ],
     "language": "python",
     "metadata": {},
     "outputs": [
      {
       "metadata": {},
       "output_type": "pyout",
       "prompt_number": 45,
       "text": [
        "[<matplotlib.lines.Line2D at 0x18c48a7d0>]"
       ]
      },
      {
       "metadata": {},
       "output_type": "display_data",
       "png": "[encoded data removed]",
       "text": [
        "<matplotlib.figure.Figure at 0x18c46a950>"
       ]
      }
     ],
     "prompt_number": 45
    },
    {
     "cell_type": "code",
     "collapsed": false,
     "input": [
      "plt.plot(grad_traj[-16000:,0])"
     ],
     "language": "python",
     "metadata": {},
     "outputs": [
      {
       "metadata": {},
       "output_type": "pyout",
       "prompt_number": 20,
       "text": [
        "[<matplotlib.lines.Line2D at 0x59059d0>]"
       ]
      },
      {
       "metadata": {},
       "output_type": "display_data",
       "png": "[encoded data removed]",
       "text": [
        "<matplotlib.figure.Figure at 0x58debd0>"
       ]
      }
     ],
     "prompt_number": 20
    },
    {
     "cell_type": "heading",
     "level": 2,
     "metadata": {},
     "source": [
      "\"Method 2\""
     ]
    },
    {
     "cell_type": "markdown",
     "metadata": {},
     "source": [
      "Rather than randomly selecting a training example in each time step, this procedure shuffles the training examples and visits them one-by-one, updating the position after each visit.  Each iteration of this procedure is referred to as an epoch."
     ]
    },
    {
     "cell_type": "code",
     "collapsed": false,
     "input": [
      "D = train_data.shape[1] - 1  # don't want to include the qualifier as a dim.\n",
      "x0 = np.zeros(D)  # initial position\n",
      "Nepochs = 100  # number of epochs\n",
      "Nt = Nepochs*N_trainex\n",
      "\n",
      "lr = 0.025\n",
      "mu = 0.002"
     ],
     "language": "python",
     "metadata": {},
     "outputs": [],
     "prompt_number": 86
    },
    {
     "cell_type": "code",
     "collapsed": false,
     "input": [
      "traj = [x0]  # keeps track of trajectory through parameter space\n",
      "#traj = [traj[-1]]  # in case you want to continue from where you last left off\n",
      "\n",
      "ns = 0\n",
      "order = np.arange(0, N_trainex, dtype='int')\n",
      "classifiers = train_data[:,0]\n",
      "traits = train_data[:,1:]\n",
      "\n",
      "for nep in range(Nepochs):\n",
      "    np.random.shuffle(order)\n",
      "    for ind_ex in order:\n",
      "        y_rand = classifiers[ind_ex]\n",
      "        x_rand = traits[ind_ex]\n",
      "        p_rand = logistic(traj[ns], x_rand)\n",
      "        step = lr*((y_rand - p_rand)*x_rand - 2.0*mu*traj[ns])\n",
      "        traj.append(traj[ns] + step)\n",
      "        ns += 1\n",
      "\n",
      "traj = np.array(traj)"
     ],
     "language": "python",
     "metadata": {},
     "outputs": [],
     "prompt_number": 87
    },
    {
     "cell_type": "markdown",
     "metadata": {},
     "source": [
      "Plot the trajectory"
     ]
    },
    {
     "cell_type": "code",
     "collapsed": false,
     "input": [
      "plt.plot(traj[:,4])"
     ],
     "language": "python",
     "metadata": {},
     "outputs": [
      {
       "metadata": {},
       "output_type": "pyout",
       "prompt_number": 89,
       "text": [
        "[<matplotlib.lines.Line2D at 0x18733c890>]"
       ]
      },
      {
       "metadata": {},
       "output_type": "display_data",
       "png": "[encoded data removed]",
       "text": [
        "<matplotlib.figure.Figure at 0x14684f150>"
       ]
      }
     ],
     "prompt_number": 89
    },
    {
     "cell_type": "code",
     "collapsed": false,
     "input": [
      "plt.plot(traj[-10*N_trainex:,5])\n",
      "plt.plot(traj[-20*N_trainex:-10*N_trainex,5])"
     ],
     "language": "python",
     "metadata": {},
     "outputs": [
      {
       "metadata": {},
       "output_type": "pyout",
       "prompt_number": 44,
       "text": [
        "[<matplotlib.lines.Line2D at 0x11a8fbd90>]"
       ]
      },
      {
       "metadata": {},
       "output_type": "display_data",
       "png": "[encoded data removed]",
       "text": [
        "<matplotlib.figure.Figure at 0x11a8fbbd0>"
       ]
      }
     ],
     "prompt_number": 44
    },
    {
     "cell_type": "markdown",
     "metadata": {},
     "source": [
      "Plot LCL over time series"
     ]
    },
    {
     "cell_type": "code",
     "collapsed": false,
     "input": [
      "# first calculate LCL time series\n",
      "LCL_ts = np.zeros(Nepochs+1)\n",
      "ns = 0\n",
      "\n",
      "for step in traj[::N_trainex]:\n",
      "    LCL_ts[ns] = LCL(step, train_data)\n",
      "    ns += 1"
     ],
     "language": "python",
     "metadata": {},
     "outputs": [],
     "prompt_number": 68
    },
    {
     "cell_type": "code",
     "collapsed": false,
     "input": [
      "plt.plot(LCL_ts)"
     ],
     "language": "python",
     "metadata": {},
     "outputs": [
      {
       "metadata": {},
       "output_type": "pyout",
       "prompt_number": 69,
       "text": [
        "[<matplotlib.lines.Line2D at 0x14646d150>]"
       ]
      },
      {
       "metadata": {},
       "output_type": "display_data",
       "png": "[encoded data removed]",
       "text": [
        "<matplotlib.figure.Figure at 0x146151510>"
       ]
      }
     ],
     "prompt_number": 69
    },
    {
     "cell_type": "heading",
     "level": 2,
     "metadata": {},
     "source": [
      "\"Method 2\", with convergence"
     ]
    },
    {
     "cell_type": "code",
     "collapsed": false,
     "input": [
      "D = train_data.shape[1] - 1  # don't want to include the qualifier as a dim.\n",
      "x0 = np.zeros(D)  # initial position\n",
      "#Nepochs = 100  # number of epochs\n",
      "#Nt = Nepochs*N_trainex\n",
      "\n",
      "lr = 0.025\n",
      "mu = 0.002"
     ],
     "language": "python",
     "metadata": {},
     "outputs": [],
     "prompt_number": 8
    },
    {
     "cell_type": "code",
     "collapsed": false,
     "input": [
      "traj = [x0]  # keeps track of trajectory through parameter space\n",
      "#traj = [traj[-1]]  # in case you want to continue from where you last left off\n",
      "\n",
      "ns = 0\n",
      "nep = 0\n",
      "order = np.arange(0, N_trainex, dtype='int')\n",
      "classifiers = train_data[:,0]\n",
      "traits = train_data[:,1:]\n",
      "\n",
      "N_testepoch = 5\n",
      "\n",
      "converged = False\n",
      "while converged == False:\n",
      "    LCL1 = 0.0\n",
      "    LCL2 = 0.0\n",
      "    for i in range(N_testepoch):\n",
      "        np.random.shuffle(order)\n",
      "        for ind_ex in order:\n",
      "            y_rand = classifiers[ind_ex]\n",
      "            x_rand = traits[ind_ex]\n",
      "            p_rand = logistic(traj[ns], x_rand)\n",
      "            step = lr*((y_rand - p_rand)*x_rand - 2.0*mu*traj[ns])\n",
      "            traj.append(traj[ns] + step)\n",
      "            ns += 1\n",
      "        LCL1 += LCL(traj[ns-1], train_data)\n",
      "        nep += 1\n",
      "    for i in range(N_testepoch):\n",
      "        np.random.shuffle(order)\n",
      "        for ind_ex in order:\n",
      "            y_rand = classifiers[ind_ex]\n",
      "            x_rand = traits[ind_ex]\n",
      "            p_rand = logistic(traj[ns], x_rand)\n",
      "            step = lr*((y_rand - p_rand)*x_rand - 2.0*mu*traj[ns])\n",
      "            traj.append(traj[ns] + step)\n",
      "            ns += 1\n",
      "        LCL2 += LCL(traj[ns-1], train_data)\n",
      "        nep += 1\n",
      "    \n",
      "    LCL1 /= N_testepoch\n",
      "    LCL2 /= N_testepoch\n",
      "    if abs((LCL2 - LCL1)/LCL1) < 1e-3:\n",
      "        print 'Converged after ' + str(nep) + ' epochs!'\n",
      "        converged = True\n",
      "\n",
      "traj = np.array(traj)"
     ],
     "language": "python",
     "metadata": {},
     "outputs": [
      {
       "output_type": "stream",
       "stream": "stdout",
       "text": [
        "Converged after 60 epochs!\n"
       ]
      }
     ],
     "prompt_number": 11
    },
    {
     "cell_type": "code",
     "collapsed": false,
     "input": [
      "plt.plot(traj[:,54])"
     ],
     "language": "python",
     "metadata": {},
     "outputs": [
      {
       "metadata": {},
       "output_type": "pyout",
       "prompt_number": 23,
       "text": [
        "[<matplotlib.lines.Line2D at 0x1304a1550>]"
       ]
      },
      {
       "metadata": {},
       "output_type": "display_data",
       "png": "[encoded data removed]",
       "text": [
        "<matplotlib.figure.Figure at 0x12fc16450>"
       ]
      }
     ],
     "prompt_number": 23
    },
    {
     "cell_type": "code",
     "collapsed": false,
     "input": [],
     "language": "python",
     "metadata": {},
     "outputs": []
    }
   ],
   "metadata": {}
  }
 ]
}