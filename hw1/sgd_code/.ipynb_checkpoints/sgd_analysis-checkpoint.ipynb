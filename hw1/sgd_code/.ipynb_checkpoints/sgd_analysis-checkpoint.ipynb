{
 "metadata": {
  "name": ""
 },
 "nbformat": 3,
 "nbformat_minor": 0,
 "worksheets": [
  {
   "cells": [
    {
     "cell_type": "heading",
     "level": 1,
     "metadata": {},
     "source": [
      "sgd_analysis"
     ]
    },
    {
     "cell_type": "code",
     "collapsed": false,
     "input": [
      "import numpy as np\n",
      "import matplotlib.pyplot as plt"
     ],
     "language": "python",
     "metadata": {},
     "outputs": [],
     "prompt_number": 1
    },
    {
     "cell_type": "code",
     "collapsed": false,
     "input": [
      "%matplotlib inline"
     ],
     "language": "python",
     "metadata": {},
     "outputs": [],
     "prompt_number": 2
    },
    {
     "cell_type": "heading",
     "level": 2,
     "metadata": {},
     "source": [
      "Batch run results"
     ]
    },
    {
     "cell_type": "markdown",
     "metadata": {},
     "source": [
      "Let's load the npy files from the batch runs and take a look at them.  The order of the data points, for each run, is $(\\mu,\\;\\lambda,\\;LCL_{val},\\;err_{val},\\;LCL_{test},\\;err_{test})$."
     ]
    },
    {
     "cell_type": "code",
     "collapsed": false,
     "input": [
      "Nruns = 25\n",
      "Ndata = 6\n",
      "Ncores = 4\n",
      "batch_run_data = np.empty(shape=(Ncores,Nruns,Ndata))"
     ],
     "language": "python",
     "metadata": {},
     "outputs": [],
     "prompt_number": 3
    },
    {
     "cell_type": "code",
     "collapsed": false,
     "input": [
      "for i in range(1,Ncores+1):\n",
      "    fname = 'sampling_' + str(i) + '.npy'\n",
      "    batch_run_data[i-1] = np.load(fname)\n",
      "\n",
      "batch_run_data = batch_run_data.reshape((Nruns*Ncores,Ndata))"
     ],
     "language": "python",
     "metadata": {},
     "outputs": [],
     "prompt_number": 4
    },
    {
     "cell_type": "markdown",
     "metadata": {},
     "source": [
      "Let's get some statistics."
     ]
    },
    {
     "cell_type": "code",
     "collapsed": false,
     "input": [
      "batch_mean = np.mean(batch_run_data, axis=0)\n",
      "print batch_mean\n",
      "print .00005/batch_mean[0]"
     ],
     "language": "python",
     "metadata": {},
     "outputs": [
      {
       "output_type": "stream",
       "stream": "stdout",
       "text": [
        "[  1.94699130e-02   3.41799338e-03  -7.25551419e+01   1.15340502e-01\n",
        "  -5.50516902e+01   9.49790795e-02]\n",
        "0.00256806488971\n"
       ]
      }
     ],
     "prompt_number": 5
    },
    {
     "cell_type": "code",
     "collapsed": false,
     "input": [
      "# take a look at mu over all instances\n",
      "plt.plot(batch_run_data[:,0], 'bo', ms=2)\n",
      "plt.axhline(y=batch_mean[0])"
     ],
     "language": "python",
     "metadata": {},
     "outputs": [
      {
       "metadata": {},
       "output_type": "pyout",
       "prompt_number": 6,
       "text": [
        "<matplotlib.lines.Line2D at 0x10dd92910>"
       ]
      },
      {
       "metadata": {},
       "output_type": "display_data",
       "png": "[encoded data removed]",
       "text": [
        "<matplotlib.figure.Figure at 0x10dcaab90>"
       ]
      }
     ],
     "prompt_number": 6
    },
    {
     "cell_type": "code",
     "collapsed": false,
     "input": [
      "# look at LCL when applied to test set\n",
      "plt.plot(batch_run_data[:,4], 'bo', ms=2)"
     ],
     "language": "python",
     "metadata": {},
     "outputs": [
      {
       "metadata": {},
       "output_type": "pyout",
       "prompt_number": 7,
       "text": [
        "[<matplotlib.lines.Line2D at 0x10de31510>]"
       ]
      },
      {
       "metadata": {},
       "output_type": "display_data",
       "png": "[encoded data removed]",
       "text": [
        "<matplotlib.figure.Figure at 0x10bad4ad0>"
       ]
      }
     ],
     "prompt_number": 7
    },
    {
     "cell_type": "code",
     "collapsed": false,
     "input": [
      "# error rates\n",
      "plt.plot(batch_run_data[:,5], 'bo', ms=2)"
     ],
     "language": "python",
     "metadata": {},
     "outputs": [
      {
       "metadata": {},
       "output_type": "pyout",
       "prompt_number": 8,
       "text": [
        "[<matplotlib.lines.Line2D at 0x10de62290>]"
       ]
      },
      {
       "metadata": {},
       "output_type": "display_data",
       "png": "[encoded data removed]",
       "text": [
        "<matplotlib.figure.Figure at 0x10de38ad0>"
       ]
      }
     ],
     "prompt_number": 8
    },
    {
     "cell_type": "heading",
     "level": 2,
     "metadata": {},
     "source": [
      "Generate plot of LCL on validation set vs mu value"
     ]
    },
    {
     "cell_type": "code",
     "collapsed": false,
     "input": [],
     "language": "python",
     "metadata": {},
     "outputs": []
    }
   ],
   "metadata": {}
  }
 ]
}