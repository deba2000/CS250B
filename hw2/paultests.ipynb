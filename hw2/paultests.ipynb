{
 "metadata": {
  "name": ""
 },
 "nbformat": 3,
 "nbformat_minor": 0,
 "worksheets": [
  {
   "cells": [
    {
     "cell_type": "heading",
     "level": 1,
     "metadata": {},
     "source": [
      "paultests"
     ]
    },
    {
     "cell_type": "markdown",
     "metadata": {},
     "source": [
      "Testing some shit"
     ]
    },
    {
     "cell_type": "markdown",
     "metadata": {},
     "source": [
      "---"
     ]
    },
    {
     "cell_type": "heading",
     "level": 4,
     "metadata": {},
     "source": [
      "Testing the output of metaff"
     ]
    },
    {
     "cell_type": "code",
     "collapsed": false,
     "input": [
      "import ffs"
     ],
     "language": "python",
     "metadata": {},
     "outputs": [],
     "prompt_number": 1
    },
    {
     "cell_type": "markdown",
     "metadata": {},
     "source": [
      "Need a dummy sentence and tag sequence."
     ]
    },
    {
     "cell_type": "code",
     "collapsed": false,
     "input": [
      "sentence = ['FIRSTWORD','What','are','these','fucking','things','for','Mr.','Bond','LASTWORD']\n",
      "label = ['START','SPACE','SPACE','SPACE','SPACE','SPACE','SPACE','COMMA','SPACE','QUESTION_MARK','STOP']\n",
      "label = [0,2,2,2,2,2,3,2,7,1]"
     ],
     "language": "python",
     "metadata": {},
     "outputs": [],
     "prompt_number": 2
    },
    {
     "cell_type": "code",
     "collapsed": false,
     "input": [
      "x_info = ffs.sent_precheck(sentence)\n",
      "print x_info"
     ],
     "language": "python",
     "metadata": {},
     "outputs": [
      {
       "output_type": "stream",
       "stream": "stdout",
       "text": [
        "{'num_prefixes': 26, 'begins_with_interrogative': 1, 'num_conjunctions': 26, 'capitals': array([ 1.,  1.,  0.,  0.,  0.,  0.,  0.,  1.,  1.,  1.]), 'conjunctions': array([ 0.,  0.,  0.,  0.,  0.,  0.,  0.,  0.,  0.,  0.]), 'prefixes': array([ 0.,  0.,  0.,  0.,  0.,  0.,  0.,  0.,  0.,  0.]), 'length': 10, 'num_suffixes': 29, 'suffixes': array([  0.,   0.,   0.,   0.,  11.,   0.,   0.,   0.,   0.,   0.])}\n"
       ]
      }
     ],
     "prompt_number": 3
    },
    {
     "cell_type": "code",
     "collapsed": false,
     "input": [
      "ffs.metaff(label[7],label[8], x_info, 7)"
     ],
     "language": "python",
     "metadata": {},
     "outputs": [
      {
       "metadata": {},
       "output_type": "pyout",
       "prompt_number": 4,
       "text": [
        "([2,\n",
        "  7,\n",
        "  18,\n",
        "  226,\n",
        "  434,\n",
        "  666,\n",
        "  898,\n",
        "  1130,\n",
        "  1362,\n",
        "  1578,\n",
        "  1786,\n",
        "  1799,\n",
        "  2007,\n",
        "  2215,\n",
        "  2447,\n",
        "  2679,\n",
        "  2911,\n",
        "  3143,\n",
        "  3359,\n",
        "  3567],\n",
        " 3568)"
       ]
      }
     ],
     "prompt_number": 4
    },
    {
     "cell_type": "code",
     "collapsed": false,
     "input": [],
     "language": "python",
     "metadata": {},
     "outputs": []
    }
   ],
   "metadata": {}
  }
 ]
}