{
 "metadata": {
  "name": ""
 },
 "nbformat": 3,
 "nbformat_minor": 0,
 "worksheets": [
  {
   "cells": [
    {
     "cell_type": "heading",
     "level": 3,
     "metadata": {},
     "source": [
      "Loading matlab data"
     ]
    },
    {
     "cell_type": "markdown",
     "metadata": {},
     "source": [
      "To load Matlab data arrays, use the function `scipy.io.loadmat`."
     ]
    },
    {
     "cell_type": "code",
     "collapsed": false,
     "input": [
      "import scipy.io"
     ],
     "language": "python",
     "metadata": {},
     "outputs": [],
     "prompt_number": 1
    },
    {
     "cell_type": "code",
     "collapsed": false,
     "input": [
      "help(scipy.io.loadmat)"
     ],
     "language": "python",
     "metadata": {},
     "outputs": [
      {
       "output_type": "stream",
       "stream": "stdout",
       "text": [
        "Help on function loadmat in module scipy.io.matlab.mio:\n",
        "\n",
        "loadmat(file_name, mdict=None, appendmat=True, **kwargs)\n",
        "    Load MATLAB file\n",
        "    \n",
        "    Parameters\n",
        "    ----------\n",
        "    file_name : str\n",
        "       Name of the mat file (do not need .mat extension if\n",
        "       appendmat==True) Can also pass open file-like object.\n",
        "    m_dict : dict, optional\n",
        "        Dictionary in which to insert matfile variables.\n",
        "    appendmat : bool, optional\n",
        "       True to append the .mat extension to the end of the given\n",
        "       filename, if not already present.\n",
        "    byte_order : str or None, optional\n",
        "       None by default, implying byte order guessed from mat\n",
        "       file. Otherwise can be one of ('native', '=', 'little', '<',\n",
        "       'BIG', '>').\n",
        "    mat_dtype : bool, optional\n",
        "       If True, return arrays in same dtype as would be loaded into\n",
        "       MATLAB (instead of the dtype with which they are saved).\n",
        "    squeeze_me : bool, optional\n",
        "       Whether to squeeze unit matrix dimensions or not.\n",
        "    chars_as_strings : bool, optional\n",
        "       Whether to convert char arrays to string arrays.\n",
        "    matlab_compatible : bool, optional\n",
        "       Returns matrices as would be loaded by MATLAB (implies\n",
        "       squeeze_me=False, chars_as_strings=False, mat_dtype=True,\n",
        "       struct_as_record=True).\n",
        "    struct_as_record : bool, optional\n",
        "       Whether to load MATLAB structs as numpy record arrays, or as\n",
        "       old-style numpy arrays with dtype=object.  Setting this flag to\n",
        "       False replicates the behavior of scipy version 0.7.x (returning\n",
        "       numpy object arrays).  The default setting is True, because it\n",
        "       allows easier round-trip load and save of MATLAB files.\n",
        "    variable_names : None or sequence\n",
        "        If None (the default) - read all variables in file. Otherwise\n",
        "        `variable_names` should be a sequence of strings, giving names of the\n",
        "        matlab variables to read from the file.  The reader will skip any\n",
        "        variable with a name not in this sequence, possibly saving some read\n",
        "        processing.\n",
        "    \n",
        "    Returns\n",
        "    -------\n",
        "    mat_dict : dict\n",
        "       dictionary with variable names as keys, and loaded matrices as\n",
        "       values\n",
        "    \n",
        "    Notes\n",
        "    -----\n",
        "    v4 (Level 1.0), v6 and v7 to 7.2 matfiles are supported.\n",
        "    \n",
        "    You will need an HDF5 python library to read matlab 7.3 format mat\n",
        "    files.  Because scipy does not supply one, we do not implement the\n",
        "    HDF5 / 7.3 interface here.\n",
        "\n"
       ]
      }
     ],
     "prompt_number": 2
    },
    {
     "cell_type": "code",
     "collapsed": false,
     "input": [
      "dataloc = '../data/classic400.mat'\n",
      "data = scipy.io.loadmat(dataloc)"
     ],
     "language": "python",
     "metadata": {},
     "outputs": [],
     "prompt_number": 3
    },
    {
     "cell_type": "markdown",
     "metadata": {},
     "source": [
      "The data is loaded as a dictionary.  It has the standard available dict attributes/functions."
     ]
    },
    {
     "cell_type": "code",
     "collapsed": false,
     "input": [
      "dir(data)"
     ],
     "language": "python",
     "metadata": {},
     "outputs": [
      {
       "metadata": {},
       "output_type": "pyout",
       "prompt_number": 4,
       "text": [
        "['__class__',\n",
        " '__cmp__',\n",
        " '__contains__',\n",
        " '__delattr__',\n",
        " '__delitem__',\n",
        " '__doc__',\n",
        " '__eq__',\n",
        " '__format__',\n",
        " '__ge__',\n",
        " '__getattribute__',\n",
        " '__getitem__',\n",
        " '__gt__',\n",
        " '__hash__',\n",
        " '__init__',\n",
        " '__iter__',\n",
        " '__le__',\n",
        " '__len__',\n",
        " '__lt__',\n",
        " '__ne__',\n",
        " '__new__',\n",
        " '__reduce__',\n",
        " '__reduce_ex__',\n",
        " '__repr__',\n",
        " '__setattr__',\n",
        " '__setitem__',\n",
        " '__sizeof__',\n",
        " '__str__',\n",
        " '__subclasshook__',\n",
        " 'clear',\n",
        " 'copy',\n",
        " 'fromkeys',\n",
        " 'get',\n",
        " 'has_key',\n",
        " 'items',\n",
        " 'iteritems',\n",
        " 'iterkeys',\n",
        " 'itervalues',\n",
        " 'keys',\n",
        " 'pop',\n",
        " 'popitem',\n",
        " 'setdefault',\n",
        " 'update',\n",
        " 'values',\n",
        " 'viewitems',\n",
        " 'viewkeys',\n",
        " 'viewvalues']"
       ]
      }
     ],
     "prompt_number": 4
    },
    {
     "cell_type": "code",
     "collapsed": false,
     "input": [
      "data.viewkeys()"
     ],
     "language": "python",
     "metadata": {},
     "outputs": [
      {
       "metadata": {},
       "output_type": "pyout",
       "prompt_number": 5,
       "text": [
        "dict_keys(['classicwordlist', '__header__', 'truelabels', '__version__', '__globals__', 'classic400'])"
       ]
      }
     ],
     "prompt_number": 5
    },
    {
     "cell_type": "code",
     "collapsed": false,
     "input": [
      "data['__header__']"
     ],
     "language": "python",
     "metadata": {},
     "outputs": [
      {
       "metadata": {},
       "output_type": "pyout",
       "prompt_number": 6,
       "text": [
        "'MATLAB 5.0 MAT-file, Platform: GLNX86, Created on: Tue Nov 25 13:14:20 2008'"
       ]
      }
     ],
     "prompt_number": 6
    },
    {
     "cell_type": "markdown",
     "metadata": {},
     "source": [
      "`scipy.io.whosmat()` also gives some information, though this can all be extracted from the dict."
     ]
    },
    {
     "cell_type": "code",
     "collapsed": false,
     "input": [
      "scipy.io.whosmat(dataloc)"
     ],
     "language": "python",
     "metadata": {},
     "outputs": [
      {
       "metadata": {},
       "output_type": "pyout",
       "prompt_number": 7,
       "text": [
        "[('classic400', (400, 6205), 'sparse'),\n",
        " ('truelabels', (1, 400), 'double'),\n",
        " ('classicwordlist', (6205, 1), 'cell')]"
       ]
      }
     ],
     "prompt_number": 7
    },
    {
     "cell_type": "markdown",
     "metadata": {},
     "source": [
      "In this case, there are three sets of data in the matlab array:\n",
      "\n",
      "- `classicwordlist` lists all of the words in the vocabulary.\n",
      "- `truelabels` lists the \"true\" classification of each document.\n",
      "- `classic400` lists the occurrence of each word in the vocabulary in each document."
     ]
    },
    {
     "cell_type": "code",
     "collapsed": false,
     "input": [
      "print data['classicwordlist'].shape\n",
      "print data['truelabels'].shape\n",
      "print data['classic400'].shape"
     ],
     "language": "python",
     "metadata": {},
     "outputs": [
      {
       "output_type": "stream",
       "stream": "stdout",
       "text": [
        "(6205, 1)\n",
        "(1, 400)\n",
        "(400, 6205)\n"
       ]
      }
     ],
     "prompt_number": 8
    },
    {
     "cell_type": "markdown",
     "metadata": {},
     "source": [
      "The entry `data['classicwordlist'][i,0][0]` is the word itself, where `i` indexes the word.  It's in a dtype I haven't seen before.  Probably usable in a similar way to strings."
     ]
    },
    {
     "cell_type": "code",
     "collapsed": false,
     "input": [
      "word_utype = data['classicwordlist'][0,0][0]\n",
      "word_string = word_utype.tostring()\n",
      "\n",
      "print word_utype\n",
      "print word_utype.dtype\n",
      "print ''\n",
      "print word_string"
     ],
     "language": "python",
     "metadata": {},
     "outputs": [
      {
       "output_type": "stream",
       "stream": "stdout",
       "text": [
        "accidental\n",
        "<U10\n",
        "\n",
        "a\u0000\u0000\u0000c\u0000\u0000\u0000c\u0000\u0000\u0000i\u0000\u0000\u0000d\u0000\u0000\u0000e\u0000\u0000\u0000n\u0000\u0000\u0000t\u0000\u0000\u0000a\u0000\u0000\u0000l\u0000\u0000\u0000\n"
       ]
      }
     ],
     "prompt_number": 82
    },
    {
     "cell_type": "code",
     "collapsed": false,
     "input": [
      "data['classicwordlist'][0:20]"
     ],
     "language": "python",
     "metadata": {},
     "outputs": [
      {
       "metadata": {},
       "output_type": "pyout",
       "prompt_number": 8,
       "text": [
        "array([[array([u'accidental'], \n",
        "      dtype='<U10')],\n",
        "       [array([u'discussion'], \n",
        "      dtype='<U10')],\n",
        "       [array([u'percussion'], \n",
        "      dtype='<U10')],\n",
        "       [array([u'librarianship'], \n",
        "      dtype='<U13')],\n",
        "       [array([u'establishing'], \n",
        "      dtype='<U12')],\n",
        "       [array([u'shipbuilding'], \n",
        "      dtype='<U12')],\n",
        "       [array([u'instrumentally'], \n",
        "      dtype='<U14')],\n",
        "       [array([u'intermediate'], \n",
        "      dtype='<U12')],\n",
        "       [array([u'bibliographical'], \n",
        "      dtype='<U15')],\n",
        "       [array([u'concentrated'], \n",
        "      dtype='<U12')],\n",
        "       [array([u'diminution'], \n",
        "      dtype='<U10')],\n",
        "       [array([u'contributions'], \n",
        "      dtype='<U13')],\n",
        "       [array([u'suggestion'], \n",
        "      dtype='<U10')],\n",
        "       [array([u'proportion'], \n",
        "      dtype='<U10')],\n",
        "       [array([u'contribution'], \n",
        "      dtype='<U12')],\n",
        "       [array([u'pharmacological'], \n",
        "      dtype='<U15')],\n",
        "       [array([u'repolarization'], \n",
        "      dtype='<U14')],\n",
        "       [array([u'assumption'], \n",
        "      dtype='<U10')],\n",
        "       [array([u'repercussions'], \n",
        "      dtype='<U13')],\n",
        "       [array([u'perception'], \n",
        "      dtype='<U10')]], dtype=object)"
       ]
      }
     ],
     "prompt_number": 8
    },
    {
     "cell_type": "code",
     "collapsed": false,
     "input": [
      "# Test for comparability.\n",
      "word_utype == 'accidental'"
     ],
     "language": "python",
     "metadata": {},
     "outputs": [
      {
       "metadata": {},
       "output_type": "pyout",
       "prompt_number": 88,
       "text": [
        "True"
       ]
      }
     ],
     "prompt_number": 88
    },
    {
     "cell_type": "code",
     "collapsed": false,
     "input": [
      "data['truelabels']"
     ],
     "language": "python",
     "metadata": {},
     "outputs": [
      {
       "metadata": {},
       "output_type": "pyout",
       "prompt_number": 5,
       "text": [
        "array([[1, 1, 1, 1, 1, 1, 1, 1, 1, 1, 1, 1, 1, 1, 1, 1, 1, 1, 1, 1, 1, 1,\n",
        "        1, 1, 1, 1, 1, 1, 1, 1, 1, 1, 1, 1, 1, 1, 1, 1, 1, 1, 1, 1, 1, 1,\n",
        "        1, 1, 1, 1, 1, 1, 1, 1, 1, 1, 1, 1, 1, 1, 1, 1, 1, 1, 1, 1, 1, 1,\n",
        "        1, 1, 1, 1, 1, 1, 1, 1, 1, 1, 1, 1, 1, 1, 1, 1, 1, 1, 1, 1, 1, 1,\n",
        "        1, 1, 1, 1, 1, 1, 1, 1, 1, 1, 1, 1, 2, 2, 2, 2, 2, 2, 2, 2, 2, 2,\n",
        "        2, 2, 2, 2, 2, 2, 2, 2, 2, 2, 2, 2, 2, 2, 2, 2, 2, 2, 2, 2, 2, 2,\n",
        "        2, 2, 2, 2, 2, 2, 2, 2, 2, 2, 2, 2, 2, 2, 2, 2, 2, 2, 2, 2, 2, 2,\n",
        "        2, 2, 2, 2, 2, 2, 2, 2, 2, 2, 2, 2, 2, 2, 2, 2, 2, 2, 2, 2, 2, 2,\n",
        "        2, 2, 2, 2, 2, 2, 2, 2, 2, 2, 2, 2, 2, 2, 2, 2, 2, 2, 2, 2, 2, 2,\n",
        "        2, 2, 3, 3, 3, 3, 3, 3, 3, 3, 3, 3, 3, 3, 3, 3, 3, 3, 3, 3, 3, 3,\n",
        "        3, 3, 3, 3, 3, 3, 3, 3, 3, 3, 3, 3, 3, 3, 3, 3, 3, 3, 3, 3, 3, 3,\n",
        "        3, 3, 3, 3, 3, 3, 3, 3, 3, 3, 3, 3, 3, 3, 3, 3, 3, 3, 3, 3, 3, 3,\n",
        "        3, 3, 3, 3, 3, 3, 3, 3, 3, 3, 3, 3, 3, 3, 3, 3, 3, 3, 3, 3, 3, 3,\n",
        "        3, 3, 3, 3, 3, 3, 3, 3, 3, 3, 3, 3, 3, 3, 3, 3, 3, 3, 3, 3, 3, 3,\n",
        "        3, 3, 3, 3, 3, 3, 3, 3, 3, 3, 3, 3, 3, 3, 3, 3, 3, 3, 3, 3, 3, 3,\n",
        "        3, 3, 3, 3, 3, 3, 3, 3, 3, 3, 3, 3, 3, 3, 3, 3, 3, 3, 3, 3, 3, 3,\n",
        "        3, 3, 3, 3, 3, 3, 3, 3, 3, 3, 3, 3, 3, 3, 3, 3, 3, 3, 3, 3, 3, 3,\n",
        "        3, 3, 3, 3, 3, 3, 3, 3, 3, 3, 3, 3, 3, 3, 3, 3, 3, 3, 3, 3, 3, 3,\n",
        "        3, 3, 3, 3]], dtype=uint8)"
       ]
      }
     ],
     "prompt_number": 5
    },
    {
     "cell_type": "markdown",
     "metadata": {},
     "source": [
      "... so it's compatible for comparison to strings."
     ]
    },
    {
     "cell_type": "markdown",
     "metadata": {},
     "source": [
      "The dict entry `data['classic400']`, which is the word frequency data itself, has lots of useful attributes and functions.  Let's take a look at some of them."
     ]
    },
    {
     "cell_type": "code",
     "collapsed": false,
     "input": [
      "data['classic400'].dtype"
     ],
     "language": "python",
     "metadata": {},
     "outputs": [
      {
       "metadata": {},
       "output_type": "pyout",
       "prompt_number": 136,
       "text": [
        "dtype('<f8')"
       ]
      }
     ],
     "prompt_number": 136
    },
    {
     "cell_type": "code",
     "collapsed": false,
     "input": [
      "dir(data['classic400'])"
     ],
     "language": "python",
     "metadata": {},
     "outputs": [
      {
       "metadata": {},
       "output_type": "pyout",
       "prompt_number": 19,
       "text": [
        "['__abs__',\n",
        " '__add__',\n",
        " '__array_priority__',\n",
        " '__class__',\n",
        " '__delattr__',\n",
        " '__dict__',\n",
        " '__div__',\n",
        " '__doc__',\n",
        " '__format__',\n",
        " '__getattr__',\n",
        " '__getattribute__',\n",
        " '__getitem__',\n",
        " '__hash__',\n",
        " '__iadd__',\n",
        " '__idiv__',\n",
        " '__imul__',\n",
        " '__init__',\n",
        " '__isub__',\n",
        " '__iter__',\n",
        " '__itruediv__',\n",
        " '__len__',\n",
        " '__module__',\n",
        " '__mul__',\n",
        " '__neg__',\n",
        " '__new__',\n",
        " '__nonzero__',\n",
        " '__pow__',\n",
        " '__radd__',\n",
        " '__reduce__',\n",
        " '__reduce_ex__',\n",
        " '__repr__',\n",
        " '__rmul__',\n",
        " '__rsub__',\n",
        " '__setattr__',\n",
        " '__setitem__',\n",
        " '__sizeof__',\n",
        " '__str__',\n",
        " '__sub__',\n",
        " '__subclasshook__',\n",
        " '__truediv__',\n",
        " '__weakref__',\n",
        " '_binopt',\n",
        " '_cs_matrix__get_sorted',\n",
        " '_cs_matrix__set_sorted',\n",
        " '_get_dtype',\n",
        " '_get_single_element',\n",
        " '_get_slice',\n",
        " '_get_submatrix',\n",
        " '_imag',\n",
        " '_mul_multivector',\n",
        " '_mul_scalar',\n",
        " '_mul_sparse_matrix',\n",
        " '_mul_vector',\n",
        " '_process_toarray_args',\n",
        " '_real',\n",
        " '_set_dtype',\n",
        " '_set_self',\n",
        " '_shape',\n",
        " '_swap',\n",
        " '_with_data',\n",
        " 'arcsin',\n",
        " 'arcsinh',\n",
        " 'arctan',\n",
        " 'arctanh',\n",
        " 'asformat',\n",
        " 'asfptype',\n",
        " 'astype',\n",
        " 'ceil',\n",
        " 'check_format',\n",
        " 'conj',\n",
        " 'conjugate',\n",
        " 'copy',\n",
        " 'data',\n",
        " 'deg2rad',\n",
        " 'diagonal',\n",
        " 'dot',\n",
        " 'dtype',\n",
        " 'eliminate_zeros',\n",
        " 'expm1',\n",
        " 'floor',\n",
        " 'format',\n",
        " 'getH',\n",
        " 'get_shape',\n",
        " 'getcol',\n",
        " 'getformat',\n",
        " 'getmaxprint',\n",
        " 'getnnz',\n",
        " 'getrow',\n",
        " 'has_sorted_indices',\n",
        " 'indices',\n",
        " 'indptr',\n",
        " 'log1p',\n",
        " 'maxprint',\n",
        " 'mean',\n",
        " 'multiply',\n",
        " 'ndim',\n",
        " 'nnz',\n",
        " 'nonzero',\n",
        " 'prune',\n",
        " 'rad2deg',\n",
        " 'reshape',\n",
        " 'rint',\n",
        " 'set_shape',\n",
        " 'setdiag',\n",
        " 'shape',\n",
        " 'sign',\n",
        " 'sin',\n",
        " 'sinh',\n",
        " 'sort_indices',\n",
        " 'sorted_indices',\n",
        " 'sum',\n",
        " 'sum_duplicates',\n",
        " 'tan',\n",
        " 'tanh',\n",
        " 'toarray',\n",
        " 'tobsr',\n",
        " 'tocoo',\n",
        " 'tocsc',\n",
        " 'tocsr',\n",
        " 'todense',\n",
        " 'todia',\n",
        " 'todok',\n",
        " 'tolil',\n",
        " 'transpose',\n",
        " 'trunc']"
       ]
      }
     ],
     "prompt_number": 19
    },
    {
     "cell_type": "code",
     "collapsed": false,
     "input": [
      "print data['classic400'].indices\n",
      "print data['classic400'].data\n",
      "print data['classic400'].tobsr()"
     ],
     "language": "python",
     "metadata": {},
     "outputs": [
      {
       "output_type": "stream",
       "stream": "stdout",
       "text": [
        "[306   1  69 ..., 303 370 337]\n",
        "[ 1.  1.  1. ...,  2.  1.  1.]\n",
        "  (0, 12)\t1.0\n",
        "  (0, 213)\t2.0\n",
        "  (0, 277)\t3.0\n",
        "  (0, 387)\t3.0\n",
        "  (0, 415)\t1.0\n",
        "  (0, 418)\t2.0\n",
        "  (0, 452)\t4.0\n",
        "  (0, 463)\t4.0\n",
        "  (0, 782)\t1.0\n",
        "  (0, 786)\t1.0\n",
        "  (0, 851)\t4.0\n",
        "  (0, 920)\t1.0\n",
        "  (0, 981)\t2.0\n",
        "  (0, 984)\t1.0\n",
        "  (0, 1105)\t1.0\n",
        "  (0, 1319)\t2.0\n",
        "  (0, 1324)\t1.0\n",
        "  (0, 1375)\t1.0\n",
        "  (0, 1505)\t2.0\n",
        "  (0, 1730)\t1.0\n",
        "  (0, 1893)\t1.0\n",
        "  (0, 1939)\t1.0\n",
        "  (0, 1940)\t1.0\n",
        "  (0, 1973)\t1.0\n",
        "  (0, 1983)\t2.0\n",
        "  :\t:\n",
        "  (399, 3467)\t2.0\n",
        "  (399, 3474)\t1.0\n",
        "  (399, 3557)\t1.0\n",
        "  (399, 3769)\t1.0\n",
        "  (399, 3847)\t1.0\n",
        "  (399, 3881)\t1.0\n",
        "  (399, 3904)\t1.0\n",
        "  (399, 3953)\t1.0\n",
        "  (399, 4017)\t1.0\n",
        "  (399, 4074)\t1.0\n",
        "  (399, 4471)\t1.0\n",
        "  (399, 4510)\t1.0\n",
        "  (399, 4525)\t1.0\n",
        "  (399, 4526)\t1.0\n",
        "  (399, 4571)\t1.0\n",
        "  (399, 4733)\t1.0\n",
        "  (399, 4940)\t2.0\n",
        "  (399, 5004)\t2.0\n",
        "  (399, 5020)\t1.0\n",
        "  (399, 5059)\t1.0\n",
        "  (399, 5127)\t2.0\n",
        "  (399, 5344)\t2.0\n",
        "  (399, 5497)\t3.0\n",
        "  (399, 5546)\t1.0\n",
        "  (399, 6153)\t1.0\n"
       ]
      }
     ],
     "prompt_number": 21
    },
    {
     "cell_type": "code",
     "collapsed": false,
     "input": [
      "print data['classic400']"
     ],
     "language": "python",
     "metadata": {},
     "outputs": [
      {
       "output_type": "stream",
       "stream": "stdout",
       "text": [
        "  (306, 0)\t1.0\n",
        "  (1, 1)\t1.0\n",
        "  (69, 1)\t1.0\n",
        "  (80, 1)\t1.0\n",
        "  (114, 1)\t1.0\n",
        "  (190, 1)\t1.0\n",
        "  (196, 1)\t1.0\n",
        "  (218, 1)\t1.0\n",
        "  (231, 1)\t1.0\n",
        "  (240, 1)\t1.0\n",
        "  (241, 1)\t1.0\n",
        "  (279, 1)\t1.0\n",
        "  (281, 1)\t1.0\n",
        "  (295, 1)\t1.0\n",
        "  (299, 1)\t1.0\n",
        "  (332, 1)\t1.0\n",
        "  (334, 1)\t1.0\n",
        "  (396, 1)\t1.0\n",
        "  (14, 2)\t2.0\n",
        "  (155, 3)\t2.0\n",
        "  (101, 4)\t1.0\n",
        "  (142, 4)\t1.0\n",
        "  (117, 5)\t2.0\n",
        "  (65, 6)\t1.0\n",
        "  (17, 7)\t2.0\n",
        "  :\t:\n",
        "  (1, 6193)\t3.0\n",
        "  (21, 6193)\t2.0\n",
        "  (62, 6194)\t1.0\n",
        "  (259, 6194)\t2.0\n",
        "  (267, 6194)\t2.0\n",
        "  (312, 6194)\t1.0\n",
        "  (50, 6195)\t1.0\n",
        "  (79, 6195)\t1.0\n",
        "  (313, 6196)\t2.0\n",
        "  (345, 6196)\t1.0\n",
        "  (80, 6197)\t1.0\n",
        "  (208, 6198)\t2.0\n",
        "  (220, 6198)\t7.0\n",
        "  (243, 6198)\t1.0\n",
        "  (264, 6198)\t2.0\n",
        "  (345, 6198)\t3.0\n",
        "  (389, 6198)\t4.0\n",
        "  (101, 6199)\t1.0\n",
        "  (230, 6200)\t1.0\n",
        "  (237, 6201)\t1.0\n",
        "  (238, 6201)\t1.0\n",
        "  (291, 6201)\t2.0\n",
        "  (303, 6202)\t2.0\n",
        "  (370, 6203)\t1.0\n",
        "  (337, 6204)\t1.0\n"
       ]
      }
     ],
     "prompt_number": 22
    },
    {
     "cell_type": "code",
     "collapsed": false,
     "input": [
      "data['classic400'][0,0]"
     ],
     "language": "python",
     "metadata": {},
     "outputs": [
      {
       "metadata": {},
       "output_type": "pyout",
       "prompt_number": 26,
       "text": [
        "0.0"
       ]
      }
     ],
     "prompt_number": 26
    },
    {
     "cell_type": "code",
     "collapsed": false,
     "input": [
      "import scipy.sparse as sparsefn"
     ],
     "language": "python",
     "metadata": {},
     "outputs": [],
     "prompt_number": 101
    },
    {
     "cell_type": "code",
     "collapsed": false,
     "input": [
      "print sparsefn.isspmatrix_csr(data['classic400'])"
     ],
     "language": "python",
     "metadata": {},
     "outputs": [
      {
       "output_type": "stream",
       "stream": "stdout",
       "text": [
        "False\n"
       ]
      }
     ],
     "prompt_number": 106
    },
    {
     "cell_type": "code",
     "collapsed": false,
     "input": [
      "print data['classic400'].getcol(0)"
     ],
     "language": "python",
     "metadata": {},
     "outputs": [
      {
       "output_type": "stream",
       "stream": "stdout",
       "text": [
        "  (306, 0)\t1.0\n"
       ]
      }
     ],
     "prompt_number": 151
    },
    {
     "cell_type": "code",
     "collapsed": false,
     "input": [
      "data['classic400'].getrow(1).data()"
     ],
     "language": "python",
     "metadata": {},
     "outputs": [
      {
       "ename": "TypeError",
       "evalue": "'numpy.ndarray' object is not callable",
       "output_type": "pyerr",
       "traceback": [
        "\u001b[1;31m---------------------------------------------------------------------------\u001b[0m\n\u001b[1;31mTypeError\u001b[0m                                 Traceback (most recent call last)",
        "\u001b[1;32m<ipython-input-144-b8b5bd880205>\u001b[0m in \u001b[0;36m<module>\u001b[1;34m()\u001b[0m\n\u001b[1;32m----> 1\u001b[1;33m \u001b[0mdata\u001b[0m\u001b[1;33m[\u001b[0m\u001b[1;34m'classic400'\u001b[0m\u001b[1;33m]\u001b[0m\u001b[1;33m.\u001b[0m\u001b[0mgetrow\u001b[0m\u001b[1;33m(\u001b[0m\u001b[1;36m1\u001b[0m\u001b[1;33m)\u001b[0m\u001b[1;33m.\u001b[0m\u001b[0mdata\u001b[0m\u001b[1;33m(\u001b[0m\u001b[1;33m)\u001b[0m\u001b[1;33m\u001b[0m\u001b[0m\n\u001b[0m",
        "\u001b[1;31mTypeError\u001b[0m: 'numpy.ndarray' object is not callable"
       ]
      }
     ],
     "prompt_number": 144
    },
    {
     "cell_type": "code",
     "collapsed": false,
     "input": [],
     "language": "python",
     "metadata": {},
     "outputs": []
    }
   ],
   "metadata": {}
  }
 ]
}