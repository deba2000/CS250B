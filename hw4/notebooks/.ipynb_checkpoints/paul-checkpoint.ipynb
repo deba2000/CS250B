{
 "metadata": {
  "name": ""
 },
 "nbformat": 3,
 "nbformat_minor": 0,
 "worksheets": [
  {
   "cells": [
    {
     "cell_type": "heading",
     "level": 1,
     "metadata": {},
     "source": [
      "A notebook to look at data for project 4, other tests, etc"
     ]
    },
    {
     "cell_type": "markdown",
     "metadata": {},
     "source": [
      "---"
     ]
    },
    {
     "cell_type": "heading",
     "level": 2,
     "metadata": {},
     "source": [
      "MR data"
     ]
    },
    {
     "cell_type": "heading",
     "level": 3,
     "metadata": {},
     "source": [
      "README file"
     ]
    },
    {
     "cell_type": "code",
     "collapsed": false,
     "input": [
      "readmefile = open('../codeDataMoviesEMNLP/data/rt-polaritydata/rt-polaritydata.README.1.0.txt')\n",
      "for line in readmefile.readlines():\n",
      "    print line"
     ],
     "language": "python",
     "metadata": {},
     "outputs": [
      {
       "output_type": "stream",
       "stream": "stdout",
       "text": [
        "\r\n",
        "\n",
        "=======\r\n",
        "\n",
        "\r\n",
        "\n",
        "Introduction\r\n",
        "\n",
        "\r\n",
        "\n",
        "This README v1.0 (June, 2005) for the v1.0 sentence polarity dataset comes\r\n",
        "\n",
        "from the URL\r\n",
        "\n",
        "http://www.cs.cornell.edu/people/pabo/movie-review-data .\r\n",
        "\n",
        "\r\n",
        "\n",
        "=======\r\n",
        "\n",
        "\r\n",
        "\n",
        "Citation Info \r\n",
        "\n",
        "\r\n",
        "\n",
        "This data was first used in Bo Pang and Lillian Lee,\r\n",
        "\n",
        "``Seeing stars: Exploiting class relationships for sentiment categorization\r\n",
        "\n",
        "with respect to rating scales.'', Proceedings of the ACL, 2005.\r\n",
        "\n",
        "  \r\n",
        "\n",
        "@InProceedings{Pang+Lee:05a,\r\n",
        "\n",
        "  author =       {Bo Pang and Lillian Lee},\r\n",
        "\n",
        "  title =        {Seeing stars: Exploiting class relationships for sentiment\r\n",
        "\n",
        "                  categorization with respect to rating scales},\r\n",
        "\n",
        "  booktitle =    {Proceedings of the ACL},\r\n",
        "\n",
        "  year =         2005\r\n",
        "\n",
        "}\r\n",
        "\n",
        "\r\n",
        "\n",
        "=======\r\n",
        "\n",
        "\r\n",
        "\n",
        "Data Format Summary \r\n",
        "\n",
        "\r\n",
        "\n",
        "- rt-polaritydata.tar.gz: contains this readme and two data files that\r\n",
        "\n",
        "  were used in the experiments described in Pang/Lee ACL 2005.\r\n",
        "\n",
        "\r\n",
        "\n",
        "  Specifically: \r\n",
        "\n",
        "  * rt-polarity.pos contains 5331 positive snippets\r\n",
        "\n",
        "  * rt-polarity.neg contains 5331 negative snippets\r\n",
        "\n",
        "\r\n",
        "\n",
        "  Each line in these two files corresponds to a single snippet (usually\r\n",
        "\n",
        "  containing roughly one single sentence); all snippets are down-cased.  \r\n",
        "\n",
        "  The snippets were labeled automatically, as described below (see \r\n",
        "\n",
        "  section \"Label Decision\").\r\n",
        "\n",
        "\r\n",
        "\n",
        "  Note: The original source files from which the data in\r\n",
        "\n",
        "  rt-polaritydata.tar.gz was derived can be found in the subjective\r\n",
        "\n",
        "  part (Rotten Tomatoes pages) of subjectivity_html.tar.gz (released \r\n",
        "\n",
        "  with subjectivity dataset v1.0).\r\n",
        "\n",
        "\r\n",
        "\n",
        "   \r\n",
        "\n",
        "=======\r\n",
        "\n",
        "\r\n",
        "\n",
        "Label Decision \r\n",
        "\n",
        "\r\n",
        "\n",
        "We assumed snippets (from Rotten Tomatoes webpages) for reviews marked with \r\n",
        "\n",
        "``fresh'' are positive, and those for reviews marked with ``rotten'' are\r\n",
        "\n",
        "negative.\r\n",
        "\n"
       ]
      }
     ],
     "prompt_number": 20
    },
    {
     "cell_type": "code",
     "collapsed": false,
     "input": [
      "import scipy.io\n",
      "import numpy as np"
     ],
     "language": "python",
     "metadata": {},
     "outputs": [],
     "prompt_number": 38
    },
    {
     "cell_type": "heading",
     "level": 3,
     "metadata": {},
     "source": [
      "Vocabulary"
     ]
    },
    {
     "cell_type": "code",
     "collapsed": false,
     "input": [
      "vocab = scipy.io.loadmat('../codeDataMoviesEMNLP/data/rt-polaritydata/vocab.mat')"
     ],
     "language": "python",
     "metadata": {},
     "outputs": [],
     "prompt_number": 3
    },
    {
     "cell_type": "code",
     "collapsed": false,
     "input": [
      "vocab.keys()"
     ],
     "language": "python",
     "metadata": {},
     "outputs": [
      {
       "metadata": {},
       "output_type": "pyout",
       "prompt_number": 4,
       "text": [
        "['__version__', '__header__', 'words', '__globals__']"
       ]
      }
     ],
     "prompt_number": 4
    },
    {
     "cell_type": "code",
     "collapsed": false,
     "input": [
      "vocab['words'][0][14]"
     ],
     "language": "python",
     "metadata": {},
     "outputs": [
      {
       "metadata": {},
       "output_type": "pyout",
       "prompt_number": 120,
       "text": [
        "array([u\"''\"], \n",
        "      dtype='<U2')"
       ]
      }
     ],
     "prompt_number": 120
    },
    {
     "cell_type": "heading",
     "level": 3,
     "metadata": {},
     "source": [
      "RT data"
     ]
    },
    {
     "cell_type": "code",
     "collapsed": false,
     "input": [
      "RTData_CV1 = scipy.io.loadmat('../codeDataMoviesEMNLP/data/rt-polaritydata/RTData_CV1.mat')"
     ],
     "language": "python",
     "metadata": {},
     "outputs": [],
     "prompt_number": 13
    },
    {
     "cell_type": "code",
     "collapsed": false,
     "input": [
      "RTData_CV1.keys()"
     ],
     "language": "python",
     "metadata": {},
     "outputs": [
      {
       "metadata": {},
       "output_type": "pyout",
       "prompt_number": 14,
       "text": [
        "['unq',\n",
        " 'words_reIndexed',\n",
        " 'train_ind',\n",
        " 'isnonZero',\n",
        " 'allSNum',\n",
        " 'full_train_ind',\n",
        " 'labels',\n",
        " '__header__',\n",
        " 'test_ind',\n",
        " '__globals__',\n",
        " 'We2',\n",
        " 'full_train_nums',\n",
        " 'test_nums',\n",
        " 'cv_ind',\n",
        " '__version__']"
       ]
      }
     ],
     "prompt_number": 14
    },
    {
     "cell_type": "code",
     "collapsed": false,
     "input": [
      "RTData_CV1['words_reIndexed']"
     ],
     "language": "python",
     "metadata": {},
     "outputs": [
      {
       "metadata": {},
       "output_type": "pyout",
       "prompt_number": 16,
       "text": [
        "array([[ array([[   2, 2985,   16, 4079,    5,   19,    2, 3060, 1165,   13,   53,\n",
        "          14,    1,   14,    9,   15,   31,   13,  243,    5,  147,    8,\n",
        "        7574,  266,  908,   63,    1,    1,    3,    1, 2289,    1,   56,\n",
        "           1,    1,    4]], dtype=uint16)],\n",
        "       [ array([[    2,     1,  2316,  2915,     6,    14,     2,  7719,     6,\n",
        "            2,  5744,    14, 10719,    16,   142,   761,    15,     8,\n",
        "         3294,     6,  2246,    94,    26,  4237,  3923,     1,  9726,\n",
        "            1,    13,  2000,  2974,     6,     1,     4, 12801,     4,\n",
        "        12801,     4,     1,    13,     1,     4]], dtype=uint16)],\n",
        "       [array([[1088,   37,    1,    1]], dtype=uint16)],\n",
        "       ..., \n",
        "       [ array([[   22,    21,  2433,     3,  8964,  7634,    27,     2,  8189,\n",
        "            3,  1964,  8526,   604,     6,     2,  4828,     1,     3,\n",
        "           36,  1254,  3996,     6,     8, 12378,  6693, 11079,    20,\n",
        "         6314,  2859,     6,     1, 13965,  3926,    11,     2,  6693,\n",
        "           13,  2141,     6,  2899,     4]], dtype=uint16)],\n",
        "       [ array([[    2,  1206,  1266,   257,     8,     1, 10981,     4]], dtype=uint16)],\n",
        "       [ array([[10293,    16,     1,     3,    37,    21,    13,   201,   341,\n",
        "         2349,     9,   341, 10581,     4]], dtype=uint16)]], dtype=object)"
       ]
      }
     ],
     "prompt_number": 16
    },
    {
     "cell_type": "code",
     "collapsed": false,
     "input": [
      "RTData_CV1['We2']"
     ],
     "language": "python",
     "metadata": {},
     "outputs": [
      {
       "metadata": {},
       "output_type": "pyout",
       "prompt_number": 37,
       "text": [
        "array([[ 0.00767653,  0.04235868, -0.02284257, ...,  0.00261777,\n",
        "         0.00403932, -0.03038171],\n",
        "       [-0.04784941,  0.0324834 , -0.03841316, ..., -0.04603256,\n",
        "        -0.02261301,  0.03682442],\n",
        "       [ 0.00993476,  0.00650648,  0.04110823, ...,  0.0033897 ,\n",
        "         0.03702349,  0.01976206],\n",
        "       ..., \n",
        "       [-0.01771604, -0.00511574, -0.04042308, ..., -0.02606127,\n",
        "         0.03549821, -0.04331336],\n",
        "       [ 0.02893226,  0.01336223, -0.04640193, ...,  0.03955751,\n",
        "        -0.02845103,  0.01787977],\n",
        "       [-0.04638163,  0.03673228,  0.04944557, ...,  0.04388824,\n",
        "         0.04410563,  0.03268991]])"
       ]
      }
     ],
     "prompt_number": 37
    },
    {
     "cell_type": "heading",
     "level": 3,
     "metadata": {},
     "source": [
      "RT Polarity"
     ]
    },
    {
     "cell_type": "code",
     "collapsed": false,
     "input": [
      "posfile = open('../codeDataMoviesEMNLP/data/rt-polaritydata/rt-polarity.pos','r')\n",
      "negfile = open('../codeDataMoviesEMNLP/data/rt-polaritydata/rt-polarity.neg','r')\n",
      "\n",
      "rtpol_pos = posfile.readlines()\n",
      "rtpol_neg = negfile.readlines()\n",
      "\n",
      "posfile.close()\n",
      "negfile.close()"
     ],
     "language": "python",
     "metadata": {},
     "outputs": [],
     "prompt_number": 42
    },
    {
     "cell_type": "code",
     "collapsed": false,
     "input": [
      "print rtpol_pos[1].split()\n",
      "print rtpol_neg[0]"
     ],
     "language": "python",
     "metadata": {},
     "outputs": [
      {
       "output_type": "stream",
       "stream": "stdout",
       "text": [
        "['the', 'gorgeously', 'elaborate', 'continuation', 'of', '\"', 'the', 'lord', 'of', 'the', 'rings', '\"', 'trilogy', 'is', 'so', 'huge', 'that', 'a', 'column', 'of', 'words', 'cannot', 'adequately', 'describe', 'co-writer/director', 'peter', \"jackson's\", 'expanded', 'vision', 'of', 'j', '.', 'r', '.', 'r', '.', \"tolkien's\", 'middle-earth', '.']\n",
        "simplistic , silly and tedious . \n",
        "\n"
       ]
      }
     ],
     "prompt_number": 111
    },
    {
     "cell_type": "heading",
     "level": 3,
     "metadata": {},
     "source": [
      "\"Binarized\" data"
     ]
    },
    {
     "cell_type": "markdown",
     "metadata": {},
     "source": [
      "***THIS is what you want, in addition to the vocabulary `.mat` file.  It contains all of the sentences, tokenized, plus the vocab indices.***"
     ]
    },
    {
     "cell_type": "code",
     "collapsed": false,
     "input": [
      "rtpol_pos_binarized = scipy.io.loadmat('../codeDataMoviesEMNLP/data/rt-polaritydata/rt-polarity_pos_binarized.mat')"
     ],
     "language": "python",
     "metadata": {},
     "outputs": [],
     "prompt_number": 80
    },
    {
     "cell_type": "code",
     "collapsed": false,
     "input": [
      "rtpol_pos_binarized.keys()"
     ],
     "language": "python",
     "metadata": {},
     "outputs": [
      {
       "metadata": {},
       "output_type": "pyout",
       "prompt_number": 81,
       "text": [
        "['allSStr',\n",
        " 'allSNum',\n",
        " '__header__',\n",
        " '__globals__',\n",
        " 'allSTree',\n",
        " '__version__',\n",
        " 'allSKids']"
       ]
      }
     ],
     "prompt_number": 81
    },
    {
     "cell_type": "code",
     "collapsed": false,
     "input": [
      "rtpol_pos_binarized['allSStr']"
     ],
     "language": "python",
     "metadata": {},
     "outputs": [
      {
       "metadata": {},
       "output_type": "pyout",
       "prompt_number": 89,
       "text": [
        "array([[ array([[array([u'the'], \n",
        "      dtype='<U3'),\n",
        "        array([u'rock'], \n",
        "      dtype='<U4'),\n",
        "        array([u'is'], \n",
        "      dtype='<U2'),\n",
        "        array([u'destined'], \n",
        "      dtype='<U8'),\n",
        "        array([u'to'], \n",
        "      dtype='<U2'),\n",
        "        array([u'be'], \n",
        "      dtype='<U2'),\n",
        "        array([u'the'], \n",
        "      dtype='<U3'),\n",
        "        array([u'21st'], \n",
        "      dtype='<U4'),\n",
        "        array([u'century'], \n",
        "      dtype='<U7'),\n",
        "        array([u\"'s\"], \n",
        "      dtype='<U2'),\n",
        "        array([u'new'], \n",
        "      dtype='<U3'),\n",
        "        array([u\"''\"], \n",
        "      dtype='<U2'),\n",
        "        array([u'*UNKNOWN*'], \n",
        "      dtype='<U9'),\n",
        "        array([u\"''\"], \n",
        "      dtype='<U2'),\n",
        "        array([u'and'], \n",
        "      dtype='<U3'),\n",
        "        array([u'that'], \n",
        "      dtype='<U4'),\n",
        "        array([u'he'], \n",
        "      dtype='<U2'),\n",
        "        array([u\"'s\"], \n",
        "      dtype='<U2'),\n",
        "        array([u'going'], \n",
        "      dtype='<U5'),\n",
        "        array([u'to'], \n",
        "      dtype='<U2'),\n",
        "        array([u'make'], \n",
        "      dtype='<U4'),\n",
        "        array([u'a'], \n",
        "      dtype='<U1'),\n",
        "        array([u'splash'], \n",
        "      dtype='<U6'),\n",
        "        array([u'even'], \n",
        "      dtype='<U4'),\n",
        "        array([u'greater'], \n",
        "      dtype='<U7'),\n",
        "        array([u'than'], \n",
        "      dtype='<U4'),\n",
        "        array([u'*UNKNOWN*'], \n",
        "      dtype='<U9'),\n",
        "        array([u'*UNKNOWN*'], \n",
        "      dtype='<U9'),\n",
        "        array([u','], \n",
        "      dtype='<U1'),\n",
        "        array([u'*UNKNOWN*'], \n",
        "      dtype='<U9'),\n",
        "        array([u'van'], \n",
        "      dtype='<U3'),\n",
        "        array([u'*UNKNOWN*'], \n",
        "      dtype='<U9'),\n",
        "        array([u'or'], \n",
        "      dtype='<U2'),\n",
        "        array([u'*UNKNOWN*'], \n",
        "      dtype='<U9'),\n",
        "        array([u'*UNKNOWN*'], \n",
        "      dtype='<U9'),\n",
        "        array([u'.'], \n",
        "      dtype='<U1')]], dtype=object),\n",
        "        array([[array([u'the'], \n",
        "      dtype='<U3'),\n",
        "        array([u'*UNKNOWN*'], \n",
        "      dtype='<U9'),\n",
        "        array([u'elaborate'], \n",
        "      dtype='<U9'),\n",
        "        array([u'continuation'], \n",
        "      dtype='<U12'),\n",
        "        array([u'of'], \n",
        "      dtype='<U2'),\n",
        "        array([u\"''\"], \n",
        "      dtype='<U2'),\n",
        "        array([u'the'], \n",
        "      dtype='<U3'),\n",
        "        array([u'lord'], \n",
        "      dtype='<U4'),\n",
        "        array([u'of'], \n",
        "      dtype='<U2'),\n",
        "        array([u'the'], \n",
        "      dtype='<U3'),\n",
        "        array([u'rings'], \n",
        "      dtype='<U5'),\n",
        "        array([u\"''\"], \n",
        "      dtype='<U2'),\n",
        "        array([u'trilogy'], \n",
        "      dtype='<U7'),\n",
        "        array([u'is'], \n",
        "      dtype='<U2'),\n",
        "        array([u'so'], \n",
        "      dtype='<U2'),\n",
        "        array([u'huge'], \n",
        "      dtype='<U4'),\n",
        "        array([u'that'], \n",
        "      dtype='<U4'),\n",
        "        array([u'a'], \n",
        "      dtype='<U1'),\n",
        "        array([u'column'], \n",
        "      dtype='<U6'),\n",
        "        array([u'of'], \n",
        "      dtype='<U2'),\n",
        "        array([u'words'], \n",
        "      dtype='<U5'),\n",
        "        array([u'can'], \n",
        "      dtype='<U3'),\n",
        "        array([u'not'], \n",
        "      dtype='<U3'),\n",
        "        array([u'adequately'], \n",
        "      dtype='<U10'),\n",
        "        array([u'describe'], \n",
        "      dtype='<U8'),\n",
        "        array([u'*UNKNOWN*'], \n",
        "      dtype='<U9'),\n",
        "        array([u'peter'], \n",
        "      dtype='<U5'),\n",
        "        array([u'*UNKNOWN*'], \n",
        "      dtype='<U9'),\n",
        "        array([u\"'s\"], \n",
        "      dtype='<U2'),\n",
        "        array([u'expanded'], \n",
        "      dtype='<U8'),\n",
        "        array([u'vision'], \n",
        "      dtype='<U6'),\n",
        "        array([u'of'], \n",
        "      dtype='<U2'),\n",
        "        array([u'*UNKNOWN*'], \n",
        "      dtype='<U9'),\n",
        "        array([u'.'], \n",
        "      dtype='<U1'),\n",
        "        array([u'r'], \n",
        "      dtype='<U1'),\n",
        "        array([u'.'], \n",
        "      dtype='<U1'),\n",
        "        array([u'r'], \n",
        "      dtype='<U1'),\n",
        "        array([u'.'], \n",
        "      dtype='<U1'),\n",
        "        array([u'*UNKNOWN*'], \n",
        "      dtype='<U9'),\n",
        "        array([u\"'s\"], \n",
        "      dtype='<U2'),\n",
        "        array([u'*UNKNOWN*'], \n",
        "      dtype='<U9'),\n",
        "        array([u'.'], \n",
        "      dtype='<U1')]], dtype=object),\n",
        "        array([[array([u'effective'], \n",
        "      dtype='<U9'),\n",
        "        array([u'but'], \n",
        "      dtype='<U3'),\n",
        "        array([u'*UNKNOWN*'], \n",
        "      dtype='<U9'),\n",
        "        array([u'*UNKNOWN*'], \n",
        "      dtype='<U9')]], dtype=object),\n",
        "        ...,\n",
        "        array([[array([u'standing'], \n",
        "      dtype='<U8'),\n",
        "        array([u'in'], \n",
        "      dtype='<U2'),\n",
        "        array([u'the'], \n",
        "      dtype='<U3'),\n",
        "        array([u'shadows'], \n",
        "      dtype='<U7'),\n",
        "        array([u'of'], \n",
        "      dtype='<U2'),\n",
        "        array([u'*UNKNOWN*'], \n",
        "      dtype='<U9'),\n",
        "        array([u'is'], \n",
        "      dtype='<U2'),\n",
        "        array([u'the'], \n",
        "      dtype='<U3'),\n",
        "        array([u'best'], \n",
        "      dtype='<U4'),\n",
        "        array([u'kind'], \n",
        "      dtype='<U4'),\n",
        "        array([u'of'], \n",
        "      dtype='<U2'),\n",
        "        array([u'documentary'], \n",
        "      dtype='<U11'),\n",
        "        array([u','], \n",
        "      dtype='<U1'),\n",
        "        array([u'one'], \n",
        "      dtype='<U3'),\n",
        "        array([u'that'], \n",
        "      dtype='<U4'),\n",
        "        array([u'makes'], \n",
        "      dtype='<U5'),\n",
        "        array([u'a'], \n",
        "      dtype='<U1'),\n",
        "        array([u'depleted'], \n",
        "      dtype='<U8'),\n",
        "        array([u'yesterday'], \n",
        "      dtype='<U9'),\n",
        "        array([u'feel'], \n",
        "      dtype='<U4'),\n",
        "        array([u'very'], \n",
        "      dtype='<U4'),\n",
        "        array([u'much'], \n",
        "      dtype='<U4'),\n",
        "        array([u'like'], \n",
        "      dtype='<U4'),\n",
        "        array([u'a'], \n",
        "      dtype='<U1'),\n",
        "        array([u'brand-new'], \n",
        "      dtype='<U9'),\n",
        "        array([u'tomorrow'], \n",
        "      dtype='<U8'),\n",
        "        array([u'.'], \n",
        "      dtype='<U1')]], dtype=object),\n",
        "        array([[array([u'it'], \n",
        "      dtype='<U2'),\n",
        "        array([u\"'s\"], \n",
        "      dtype='<U2'),\n",
        "        array([u'nice'], \n",
        "      dtype='<U4'),\n",
        "        array([u'to'], \n",
        "      dtype='<U2'),\n",
        "        array([u'see'], \n",
        "      dtype='<U3'),\n",
        "        array([u'*UNKNOWN*'], \n",
        "      dtype='<U9'),\n",
        "        array([u'again'], \n",
        "      dtype='<U5'),\n",
        "        array([u'after'], \n",
        "      dtype='<U5'),\n",
        "        array([u'all'], \n",
        "      dtype='<U3'),\n",
        "        array([u'these'], \n",
        "      dtype='<U5'),\n",
        "        array([u'years'], \n",
        "      dtype='<U5'),\n",
        "        array([u','], \n",
        "      dtype='<U1'),\n",
        "        array([u'and'], \n",
        "      dtype='<U3'),\n",
        "        array([u'*UNKNOWN*'], \n",
        "      dtype='<U9'),\n",
        "        array([u'and'], \n",
        "      dtype='<U3'),\n",
        "        array([u'*UNKNOWN*'], \n",
        "      dtype='<U9'),\n",
        "        array([u'are'], \n",
        "      dtype='<U3'),\n",
        "        array([u'priceless'], \n",
        "      dtype='<U9'),\n",
        "        array([u'.'], \n",
        "      dtype='<U1')]], dtype=object),\n",
        "        array([[array([u'provides'], \n",
        "      dtype='<U8'),\n",
        "        array([u'a'], \n",
        "      dtype='<U1'),\n",
        "        array([u'*UNKNOWN*'], \n",
        "      dtype='<U9'),\n",
        "        array([u'into'], \n",
        "      dtype='<U4'),\n",
        "        array([u'that'], \n",
        "      dtype='<U4'),\n",
        "        array([u'noble'], \n",
        "      dtype='<U5'),\n",
        "        array([u','], \n",
        "      dtype='<U1'),\n",
        "        array([u'trembling'], \n",
        "      dtype='<U9'),\n",
        "        array([u'*UNKNOWN*'], \n",
        "      dtype='<U9'),\n",
        "        array([u'that'], \n",
        "      dtype='<U4'),\n",
        "        array([u'defines'], \n",
        "      dtype='<U7'),\n",
        "        array([u'us'], \n",
        "      dtype='<U2'),\n",
        "        array([u'all'], \n",
        "      dtype='<U3'),\n",
        "        array([u'.'], \n",
        "      dtype='<U1')]], dtype=object)]], dtype=object)"
       ]
      }
     ],
     "prompt_number": 89
    },
    {
     "cell_type": "code",
     "collapsed": false,
     "input": [
      "rtpol_pos_binarized['allSNum']"
     ],
     "language": "python",
     "metadata": {},
     "outputs": [
      {
       "metadata": {},
       "output_type": "pyout",
       "prompt_number": 90,
       "text": [
        "array([[ array([[    2,  5219,    18,  8363,     5,    21,     2,  5378,  1628,\n",
        "           13,    58,    15,     1,    15,     9,    17,    33,    13,\n",
        "          296,     5,   171,     8, 25313,   323,  1238,    69,     1,\n",
        "            1,     3,     1,  3680,     1,    61,     1,     1,     4]], dtype=uint16),\n",
        "        array([[     2,      1,   3727,   5053,      6,     15,      2,  26404,\n",
        "             6,      2,  14634,     15,  65206,     18,    165,   1007,\n",
        "            17,      8,   5993,      6,   3576,    111,     28,   8896,\n",
        "          7836,      1,  47277,      1,     13,   3089,   5195,      6,\n",
        "             1,      4, 135108,      4, 135108,      4,      1,     13,\n",
        "             1,      4]], dtype=int32),\n",
        "        array([[1512,   39,    1,    1]], dtype=uint16), ...,\n",
        "        array([[ 2987,     7,     2, 22137,     6,     1,    18,     2,   764,\n",
        "         1684,     6, 15142,     3,    52,    17,  1345,     8, 10757,\n",
        "         1449,  1699,   161,   235,   311,     8, 46514,  2295,     4]], dtype=uint16),\n",
        "        array([[   23,    13,  7754,     5,   263,     1,   517,    46,    95,\n",
        "          241,    98,     3,     9,     1,     9,     1,    34, 35728,\n",
        "            4]], dtype=uint16),\n",
        "        array([[ 1929,     8,     1,    71,    17, 25052,     3, 20055,     1,\n",
        "           17, 21272,   560,    95,     4]], dtype=uint16)]], dtype=object)"
       ]
      }
     ],
     "prompt_number": 90
    },
    {
     "cell_type": "code",
     "collapsed": false,
     "input": [
      "# first sentence in the positive sentences section\n",
      "print rtpol_pos_binarized['allSNum'][0,1][0]"
     ],
     "language": "python",
     "metadata": {},
     "outputs": [
      {
       "output_type": "stream",
       "stream": "stdout",
       "text": [
        "[     2      1   3727   5053      6     15      2  26404      6      2\n",
        "  14634     15  65206     18    165   1007     17      8   5993      6\n",
        "   3576    111     28   8896   7836      1  47277      1     13   3089\n",
        "   5195      6      1      4 135108      4 135108      4      1     13\n",
        "      1      4]\n"
       ]
      }
     ],
     "prompt_number": 113
    },
    {
     "cell_type": "code",
     "collapsed": false,
     "input": [],
     "language": "python",
     "metadata": {},
     "outputs": []
    }
   ],
   "metadata": {}
  }
 ]
}